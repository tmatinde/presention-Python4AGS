{
 "cells": [
  {
   "cell_type": "markdown",
   "metadata": {
    "nbpresent": {
     "id": "4ecb4c03-4d0e-44c6-8f39-97d76243280f"
    },
    "slideshow": {
     "slide_type": "slide"
    }
   },
   "source": [
    "<center><h1>Getting to Know Geosaurus, the Python API for ArcGIS</h1></center>\n",
    "<br/>\n",
    "<img src=\"staticimg/croc.jpg\" alt=\"croc\" style=\"width:100%;height:100%;\">\n",
    "<center><h4>Teddy Matinde<h4/></center>"
   ]
  },
  {
   "cell_type": "markdown",
   "metadata": {
    "nbpresent": {
     "id": "a806f414-fff6-4919-aac4-467b0b87e2cf"
    },
    "slideshow": {
     "slide_type": "slide"
    }
   },
   "source": [
    "### Why Learn Another API?\n",
    "<hr/>\n",
    " * Easy to use\n",
    " * Well designed\n",
    " * Documentation\n",
    " * Interactive coding (like this presentation)\n",
    " * **Community driven**\n"
   ]
  },
  {
   "cell_type": "markdown",
   "metadata": {
    "slideshow": {
     "slide_type": "slide"
    }
   },
   "source": [
    "### What About ArcRest\n",
    "<hr/>\n",
    "* Same team that worked on ArcRest now on Python API for ArcGIS\n",
    "* ArcRest is for version 2.x python. \n",
    "* ArcGIS pro is python 3.x, so is python for ArcGIS\n",
    "* ArcRest is unsupported while Python API for ArcGIS is supported"
   ]
  },
  {
   "cell_type": "markdown",
   "metadata": {
    "slideshow": {
     "slide_type": "slide"
    }
   },
   "source": [
    "##### Installation\n",
    "- Next version of ArcGIS Pro will include API\n",
    "- Install ArcGIS Pro\n",
    "- Add python directory and pip directory from pro to your path\n",
    "- Download geosaurus https://github.com/ArcGIS/geosaurus\n",
    "- Install geosaurus\n",
    "- pip install -e ./src\n",
    "- pip install jupyter\n",
    "- jupyter nbextension install --py --sys-prefix arcgis\n",
    "- jupyter nbextension enable --py --sys-prefix arcgis\n"
   ]
  },
  {
   "cell_type": "markdown",
   "metadata": {
    "slideshow": {
     "slide_type": "slide"
    }
   },
   "source": [
    "#### Notebook\n",
    "- Supported\n",
    "- Uses \n",
    "  - Create blogs https://gavinr.com/2016/12/22/create-pitch-charts-python/\n",
    "  - Create tutorials + display output on github https://github.com/gbrunner/Python_for_GIS_and_RS/blob/master/Week_6/Exercise%202%20-%20JSON.ipynb\n",
    "  - Create Slides, PDFS\n",
    "  - Gallery https://github.com/jupyter/jupyter/wiki/A-gallery-of-interesting-Jupyter-Notebooks"
   ]
  },
  {
   "cell_type": "markdown",
   "metadata": {
    "nbpresent": {
     "id": "379ec1fb-0b9d-4a99-9029-18955654aa6f"
    },
    "slideshow": {
     "slide_type": "slide"
    }
   },
   "source": [
    "<hr/>\n",
    "<img src=\"staticimg/api_overview.png\" alt=\"pandas\" style=\"width:100%;height:85%;\">\n",
    "<hr/>"
   ]
  },
  {
   "cell_type": "markdown",
   "metadata": {
    "nbpresent": {
     "id": "85ab4bf9-0981-4656-b1b1-955c64d96794"
    },
    "slideshow": {
     "slide_type": "slide"
    }
   },
   "source": [
    "# Login Basics \n",
    "<hr/>\n",
    "#### Supported Methods\n",
    "* Anonymous users\n",
    "* built-in users\n",
    "* LDAP\n",
    "* Integrated Windows Authentication (IWA) through NTLM or Kerberos\n",
    "* smart card users / PKI authentication using certificate and key files\n",
    "* ArcGIS Pro Login\n",
    "* Oauth\n",
    "* SAML\n",
    "<hr/>\n"
   ]
  },
  {
   "cell_type": "code",
   "execution_count": 1,
   "metadata": {
    "collapsed": true,
    "nbpresent": {
     "id": "a5e61493-879a-4541-b068-a61721c2e884"
    },
    "slideshow": {
     "slide_type": "subslide"
    }
   },
   "outputs": [],
   "source": [
    "from arcgis.gis import GIS\n",
    "from getpass import getpass\n"
   ]
  },
  {
   "cell_type": "markdown",
   "metadata": {
    "nbpresent": {
     "id": "94c8cac9-d6ca-4656-99df-31a4c4d030a7"
    },
    "slideshow": {
     "slide_type": "fragment"
    }
   },
   "source": [
    "##### Anonymous Access"
   ]
  },
  {
   "cell_type": "code",
   "execution_count": 2,
   "metadata": {
    "nbpresent": {
     "id": "9efa8715-d251-49f6-8b33-3c92d2f02cdc"
    },
    "slideshow": {
     "slide_type": "fragment"
    }
   },
   "outputs": [
    {
     "name": "stdout",
     "output_type": "stream",
     "text": [
      "Initiated GIS 1\n"
     ]
    }
   ],
   "source": [
    "gis = GIS()\n",
    "print(\"Initiated GIS 1\")"
   ]
  },
  {
   "cell_type": "markdown",
   "metadata": {
    "nbpresent": {
     "id": "6cda2d29-077a-4f37-9543-be8135b9779a"
    },
    "slideshow": {
     "slide_type": "fragment"
    }
   },
   "source": [
    "##### Built-In Login"
   ]
  },
  {
   "cell_type": "code",
   "execution_count": 41,
   "metadata": {
    "nbpresent": {
     "id": "7235bf44-4545-4873-83bb-452d58bc7a20"
    },
    "slideshow": {
     "slide_type": "fragment"
    }
   },
   "outputs": [
    {
     "name": "stdout",
     "output_type": "stream",
     "text": [
      "········\n"
     ]
    }
   ],
   "source": [
    "password = getpass()\n",
    "gis = GIS(username=\"tmatindeps\", password=password)"
   ]
  },
  {
   "cell_type": "markdown",
   "metadata": {
    "nbpresent": {
     "id": "763631a0-12c7-432a-992a-ed6fece81416"
    },
    "slideshow": {
     "slide_type": "slide"
    }
   },
   "source": [
    "# Working with Content\n",
    "\n",
    "* Add/Remove/Delete items\n",
    "* Update properties\n",
    "* Share items\n",
    "\n",
    "<hr/>"
   ]
  },
  {
   "cell_type": "markdown",
   "metadata": {
    "nbpresent": {
     "id": "a387281f-7ded-4b1c-97b7-f690dba45000"
    },
    "slideshow": {
     "slide_type": "subslide"
    }
   },
   "source": [
    "### Searching Content"
   ]
  },
  {
   "cell_type": "code",
   "execution_count": 4,
   "metadata": {
    "nbpresent": {
     "id": "8167d4e9-3d04-4123-b5f3-8aefd1b43709"
    },
    "slideshow": {
     "slide_type": "fragment"
    }
   },
   "outputs": [
    {
     "name": "stdout",
     "output_type": "stream",
     "text": [
      "Content length =  59\n"
     ]
    },
    {
     "data": {
      "text/plain": [
       "[<Item title:\"Beverly Hills Permit\" type:Web Map owner:tmatindeps>,\n",
       " <Item title:\"Banner Request 2\" type:Web Map owner:tmatindeps>,\n",
       " <Item title:\"BannerRequestAdmin\" type:Web Map owner:tmatindeps>,\n",
       " <Item title:\"Banner Request 2\" type:Web Mapping Application owner:tmatindeps>,\n",
       " <Item title:\"BannerRequestAdmin\" type:Web Mapping Application owner:tmatindeps>,\n",
       " <Item title:\"Banner_Requests_User\" type:Web Mapping Application owner:tmatindeps>,\n",
       " <Item title:\"Banner_Requests_User\" type:Web Map owner:tmatindeps>,\n",
       " <Item title:\"Banner Pole Requests Admin\" type:Web Mapping Application owner:tmatindeps>,\n",
       " <Item title:\"Banner Request\" type:Web Map owner:tmatindeps>,\n",
       " <Item title:\"Funny Town Names in Canada\" type:Web Map owner:tmatindeps>]"
      ]
     },
     "execution_count": 4,
     "metadata": {},
     "output_type": "execute_result"
    }
   ],
   "source": [
    "content = gis.content.search(\"owner: tmatindeps\", max_items=200)\n",
    "print( \"Content length =  \" + str(len(content)))\n",
    "content[:10]"
   ]
  },
  {
   "cell_type": "code",
   "execution_count": 5,
   "metadata": {
    "nbpresent": {
     "id": "f3b826e0-30b2-4ea5-b0ca-9c6108b851c4"
    },
    "slideshow": {
     "slide_type": "subslide"
    }
   },
   "outputs": [
    {
     "data": {
      "text/plain": [
       "59"
      ]
     },
     "execution_count": 5,
     "metadata": {},
     "output_type": "execute_result"
    }
   ],
   "source": [
    "me = gis.users.me\n",
    "items = me.items()\n",
    "len(items)"
   ]
  },
  {
   "cell_type": "markdown",
   "metadata": {
    "nbpresent": {
     "id": "c2bccc38-c5ca-4078-9261-4d74586d78f9"
    },
    "slideshow": {
     "slide_type": "fragment"
    }
   },
   "source": [
    "##### Add an item\n",
    "<hr/>"
   ]
  },
  {
   "cell_type": "code",
   "execution_count": 37,
   "metadata": {
    "collapsed": true,
    "nbpresent": {
     "id": "3915455f-60f5-44c0-987b-2c7feffbe483"
    },
    "slideshow": {
     "slide_type": "fragment"
    }
   },
   "outputs": [],
   "source": [
    "# TM Remember to change number\n",
    "properties = {\"type\" : \"Shapefile\", \n",
    "              \"title\" : \"US States Strange Laws 5\",\n",
    "              \"tags \" : \"US States\",\n",
    "              \"description\" : \"US States Strange and Funny laws\"\n",
    "            }\n",
    "data_path = r\"C:\\maps\\statesStrangeLaws5.zip\"\n",
    "item = gis.content.add(data=data_path, item_properties=properties)"
   ]
  },
  {
   "cell_type": "code",
   "execution_count": 43,
   "metadata": {
    "nbpresent": {
     "id": "8c67e955-f5f7-4698-a329-19de987068bd"
    },
    "slideshow": {
     "slide_type": "fragment"
    }
   },
   "outputs": [
    {
     "data": {
      "text/html": [
       "<div class=\"item_container\" style=\"height: auto; overflow: hidden; border: 1px solid #cfcfcf; border-radius: 2px; background: #f6fafa; line-height: 1.21429em; padding: 10px;\">\n",
       "                    <div class=\"item_left\" style=\"width: 210px; float: left;\">\n",
       "                       <a href='https://teddym2.esri.com/arcgis/home/item.html?id=53fe977a61f24b229237809a60798907' target='_blank'>\n",
       "                        <img src='https://teddym2.esri.com/arcgis/portalimages/desktopapp.png' class=\"itemThumbnail\">\n",
       "                       </a>\n",
       "                    </div>\n",
       "\n",
       "                    <div class=\"item_right\"     style=\"float: none; width: auto; overflow: hidden;\">\n",
       "                        <a href='https://teddym2.esri.com/arcgis/home/item.html?id=53fe977a61f24b229237809a60798907' target='_blank'><b>US States Strange Laws 5</b>\n",
       "                        </a>\n",
       "                        <br/><img src='https://teddym2.esri.com/arcgis/home/js/jsapi/esri/css/images/item_type_icons/datafiles16.png' style=\"vertical-align:middle;\">Shapefile by tmatinde\n",
       "                        <br/>Last Modified: May 31, 2017\n",
       "                        <br/>0 comments, 0 views\n",
       "                    </div>\n",
       "                </div>\n",
       "                "
      ],
      "text/plain": [
       "<Item title:\"US States Strange Laws 5\" type:Shapefile owner:tmatinde>"
      ]
     },
     "execution_count": 43,
     "metadata": {},
     "output_type": "execute_result"
    }
   ],
   "source": [
    "item"
   ]
  },
  {
   "cell_type": "markdown",
   "metadata": {
    "nbpresent": {
     "id": "84f33de3-ee71-446c-bcb3-27109ffd8294"
    },
    "slideshow": {
     "slide_type": "subslide"
    }
   },
   "source": [
    "##### Publish the Item\n",
    "<hr/>"
   ]
  },
  {
   "cell_type": "code",
   "execution_count": 42,
   "metadata": {
    "nbpresent": {
     "id": "676c9904-a250-452a-830b-6013f9fe1c89"
    },
    "slideshow": {
     "slide_type": "fragment"
    }
   },
   "outputs": [
    {
     "name": "stderr",
     "output_type": "stream",
     "text": [
      "Publish exception '\n",
      "Exception: no protocol: null/admin/services/exists'\n"
     ]
    },
    {
     "ename": "RuntimeError",
     "evalue": "Publish exception '\nException: no protocol: null/admin/services/exists'\n(Error Code: 0)",
     "output_type": "error",
     "traceback": [
      "\u001b[1;31m---------------------------------------------------------------------------\u001b[0m",
      "\u001b[1;31mRuntimeError\u001b[0m                              Traceback (most recent call last)",
      "\u001b[1;32m<ipython-input-42-e9b79af7ea60>\u001b[0m in \u001b[0;36m<module>\u001b[1;34m()\u001b[0m\n\u001b[1;32m----> 1\u001b[1;33m \u001b[0mres\u001b[0m \u001b[1;33m=\u001b[0m \u001b[0mitem\u001b[0m\u001b[1;33m.\u001b[0m\u001b[0mpublish\u001b[0m\u001b[1;33m(\u001b[0m\u001b[1;33m)\u001b[0m\u001b[1;33m\u001b[0m\u001b[0m\n\u001b[0m",
      "\u001b[1;32mc:\\components\\geosaurus\\geosaurus\\src\\arcgis\\gis.py\u001b[0m in \u001b[0;36mpublish\u001b[1;34m(self, publish_parameters, address_fields, output_type, overwrite)\u001b[0m\n\u001b[0;32m   4459\u001b[0m \u001b[1;33m\u001b[0m\u001b[0m\n\u001b[0;32m   4460\u001b[0m         ret = self._portal.publish_item(self.itemid, None, None, fileType, publish_parameters, output_type, overwrite,\n\u001b[1;32m-> 4461\u001b[1;33m                                         self.owner, folder, buildInitialCache)\n\u001b[0m\u001b[0;32m   4462\u001b[0m \u001b[1;33m\u001b[0m\u001b[0m\n\u001b[0;32m   4463\u001b[0m         \u001b[1;32mtry\u001b[0m\u001b[1;33m:\u001b[0m\u001b[1;33m\u001b[0m\u001b[0m\n",
      "\u001b[1;32mc:\\components\\geosaurus\\geosaurus\\src\\arcgis\\_impl\\portalpy.py\u001b[0m in \u001b[0;36mpublish_item\u001b[1;34m(self, itemid, data, text, fileType, publishParameters, outputType, overwrite, owner, folder, buildInitialCache)\u001b[0m\n\u001b[0;32m    368\u001b[0m             \u001b[0mpath\u001b[0m \u001b[1;33m+=\u001b[0m \u001b[1;34m'/'\u001b[0m \u001b[1;33m+\u001b[0m \u001b[0mfolder\u001b[0m\u001b[1;33m\u001b[0m\u001b[0m\n\u001b[0;32m    369\u001b[0m         \u001b[0mpath\u001b[0m \u001b[1;33m+=\u001b[0m \u001b[1;34m'/publish'\u001b[0m\u001b[1;33m\u001b[0m\u001b[0m\n\u001b[1;32m--> 370\u001b[1;33m         \u001b[0mresp\u001b[0m \u001b[1;33m=\u001b[0m \u001b[0mself\u001b[0m\u001b[1;33m.\u001b[0m\u001b[0mcon\u001b[0m\u001b[1;33m.\u001b[0m\u001b[0mpost\u001b[0m\u001b[1;33m(\u001b[0m\u001b[0mpath\u001b[0m\u001b[1;33m,\u001b[0m \u001b[0mpostdata\u001b[0m\u001b[1;33m,\u001b[0m \u001b[0mfiles\u001b[0m\u001b[1;33m)\u001b[0m\u001b[1;33m\u001b[0m\u001b[0m\n\u001b[0m\u001b[0;32m    371\u001b[0m         \u001b[1;32mif\u001b[0m \u001b[0mresp\u001b[0m\u001b[1;33m:\u001b[0m\u001b[1;33m\u001b[0m\u001b[0m\n\u001b[0;32m    372\u001b[0m             \u001b[1;32mreturn\u001b[0m \u001b[0mresp\u001b[0m\u001b[1;33m[\u001b[0m\u001b[1;34m'services'\u001b[0m\u001b[1;33m]\u001b[0m\u001b[1;33m\u001b[0m\u001b[0m\n",
      "\u001b[1;32mc:\\components\\geosaurus\\geosaurus\\src\\arcgis\\_impl\\connection.py\u001b[0m in \u001b[0;36mpost\u001b[1;34m(self, path, postdata, files, ssl, compress, is_retry, use_ordered_dict, add_token, verify_cert, token, try_json)\u001b[0m\n\u001b[0;32m   1056\u001b[0m \u001b[1;33m\u001b[0m\u001b[0m\n\u001b[0;32m   1057\u001b[0m                     return self.post(path, postdata, files, ssl, compress, token=retry_token, verify_cert=verify_cert,\n\u001b[1;32m-> 1058\u001b[1;33m                                      is_retry=True)\n\u001b[0m\u001b[0;32m   1059\u001b[0m                 \u001b[1;32melif\u001b[0m \u001b[0merrorcode\u001b[0m \u001b[1;33m==\u001b[0m \u001b[1;36m498\u001b[0m\u001b[1;33m:\u001b[0m\u001b[1;33m\u001b[0m\u001b[0m\n\u001b[0;32m   1060\u001b[0m                     \u001b[1;32mraise\u001b[0m \u001b[0mRuntimeError\u001b[0m\u001b[1;33m(\u001b[0m\u001b[1;34m'Invalid token'\u001b[0m\u001b[1;33m)\u001b[0m\u001b[1;33m\u001b[0m\u001b[0m\n",
      "\u001b[1;32mc:\\components\\geosaurus\\geosaurus\\src\\arcgis\\_impl\\connection.py\u001b[0m in \u001b[0;36mpost\u001b[1;34m(self, path, postdata, files, ssl, compress, is_retry, use_ordered_dict, add_token, verify_cert, token, try_json)\u001b[0m\n\u001b[0;32m   1059\u001b[0m                 \u001b[1;32melif\u001b[0m \u001b[0merrorcode\u001b[0m \u001b[1;33m==\u001b[0m \u001b[1;36m498\u001b[0m\u001b[1;33m:\u001b[0m\u001b[1;33m\u001b[0m\u001b[0m\n\u001b[0;32m   1060\u001b[0m                     \u001b[1;32mraise\u001b[0m \u001b[0mRuntimeError\u001b[0m\u001b[1;33m(\u001b[0m\u001b[1;34m'Invalid token'\u001b[0m\u001b[1;33m)\u001b[0m\u001b[1;33m\u001b[0m\u001b[0m\n\u001b[1;32m-> 1061\u001b[1;33m                 \u001b[0mself\u001b[0m\u001b[1;33m.\u001b[0m\u001b[0m_handle_json_error\u001b[0m\u001b[1;33m(\u001b[0m\u001b[0mresp_json\u001b[0m\u001b[1;33m[\u001b[0m\u001b[1;34m'error'\u001b[0m\u001b[1;33m]\u001b[0m\u001b[1;33m,\u001b[0m \u001b[0merrorcode\u001b[0m\u001b[1;33m)\u001b[0m\u001b[1;33m\u001b[0m\u001b[0m\n\u001b[0m\u001b[0;32m   1062\u001b[0m                 \u001b[1;32mreturn\u001b[0m \u001b[1;32mNone\u001b[0m\u001b[1;33m\u001b[0m\u001b[0m\n\u001b[0;32m   1063\u001b[0m         \u001b[1;32mexcept\u001b[0m \u001b[0mAttributeError\u001b[0m\u001b[1;33m:\u001b[0m\u001b[1;33m\u001b[0m\u001b[0m\n",
      "\u001b[1;32mc:\\components\\geosaurus\\geosaurus\\src\\arcgis\\_impl\\connection.py\u001b[0m in \u001b[0;36m_handle_json_error\u001b[1;34m(self, error, errorcode)\u001b[0m\n\u001b[0;32m   1079\u001b[0m \u001b[1;33m\u001b[0m\u001b[0m\n\u001b[0;32m   1080\u001b[0m         \u001b[0merrormessage\u001b[0m \u001b[1;33m=\u001b[0m \u001b[0merrormessage\u001b[0m \u001b[1;33m+\u001b[0m \u001b[1;34m\"\\n(Error Code: \"\u001b[0m \u001b[1;33m+\u001b[0m \u001b[0mstr\u001b[0m\u001b[1;33m(\u001b[0m\u001b[0merrorcode\u001b[0m\u001b[1;33m)\u001b[0m \u001b[1;33m+\u001b[0m\u001b[1;34m\")\"\u001b[0m\u001b[1;33m\u001b[0m\u001b[0m\n\u001b[1;32m-> 1081\u001b[1;33m         \u001b[1;32mraise\u001b[0m \u001b[0mRuntimeError\u001b[0m\u001b[1;33m(\u001b[0m\u001b[0merrormessage\u001b[0m\u001b[1;33m)\u001b[0m\u001b[1;33m\u001b[0m\u001b[0m\n\u001b[0m\u001b[0;32m   1082\u001b[0m \u001b[1;33m\u001b[0m\u001b[0m\n\u001b[0;32m   1083\u001b[0m \u001b[1;32mclass\u001b[0m \u001b[0m_StrictURLopener\u001b[0m\u001b[1;33m(\u001b[0m\u001b[0mrequest\u001b[0m\u001b[1;33m.\u001b[0m\u001b[0mFancyURLopener\u001b[0m\u001b[1;33m)\u001b[0m\u001b[1;33m:\u001b[0m\u001b[1;33m\u001b[0m\u001b[0m\n",
      "\u001b[1;31mRuntimeError\u001b[0m: Publish exception '\nException: no protocol: null/admin/services/exists'\n(Error Code: 0)"
     ]
    }
   ],
   "source": [
    "res = item.publish()\n"
   ]
  },
  {
   "cell_type": "code",
   "execution_count": 9,
   "metadata": {
    "nbpresent": {
     "id": "5ff3de9c-ba3e-4a12-b968-e15a16ac72d3"
    },
    "slideshow": {
     "slide_type": "fragment"
    }
   },
   "outputs": [
    {
     "data": {
      "text/html": [
       "<div class=\"item_container\" style=\"height: auto; overflow: hidden; border: 1px solid #cfcfcf; border-radius: 2px; background: #f6fafa; line-height: 1.21429em; padding: 10px;\">\n",
       "                    <div class=\"item_left\" style=\"width: 210px; float: left;\">\n",
       "                       <a href='http://prof-services.maps.arcgis.com/home/item.html?id=b05418453055420da86b8d0b07ca658f' target='_blank'>\n",
       "                        <img src='data:image/png;base64,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' width='200' height='133' class=\"itemThumbnail\">\n",
       "                       </a>\n",
       "                    </div>\n",
       "\n",
       "                    <div class=\"item_right\"     style=\"float: none; width: auto; overflow: hidden;\">\n",
       "                        <a href='http://prof-services.maps.arcgis.com/home/item.html?id=b05418453055420da86b8d0b07ca658f' target='_blank'><b>US States Strange Laws 3</b>\n",
       "                        </a>\n",
       "                        <br/><img src='http://prof-services.maps.arcgis.com/home/js/jsapi/esri/css/images/item_type_icons/featureshosted16.png' style=\"vertical-align:middle;\">Feature Layer Collection by tmatindeps\n",
       "                        <br/>Last Modified: May 31, 2017\n",
       "                        <br/>0 comments, 0 views\n",
       "                    </div>\n",
       "                </div>\n",
       "                "
      ],
      "text/plain": [
       "<Item title:\"US States Strange Laws 3\" type:Feature Service owner:tmatindeps>"
      ]
     },
     "execution_count": 9,
     "metadata": {},
     "output_type": "execute_result"
    }
   ],
   "source": [
    "res"
   ]
  },
  {
   "cell_type": "markdown",
   "metadata": {
    "nbpresent": {
     "id": "07da47a3-048f-42ef-a65c-b1812b58c6ab"
    },
    "slideshow": {
     "slide_type": "subslide"
    }
   },
   "source": [
    "#### Using Content"
   ]
  },
  {
   "cell_type": "code",
   "execution_count": 34,
   "metadata": {
    "nbpresent": {
     "id": "e9dc0d08-d337-4415-8191-0a77144d1b97"
    },
    "slideshow": {
     "slide_type": "fragment"
    }
   },
   "outputs": [
    {
     "data": {
      "application/vnd.jupyter.widget-view+json": {
       "model_id": "5cbd16eafdb0420db735b246e6e889ce"
      }
     },
     "metadata": {},
     "output_type": "display_data"
    }
   ],
   "source": [
    "from IPython.display import display\n",
    "map = gis.map(\"US\", zoomlevel = 5)\n",
    "map"
   ]
  },
  {
   "cell_type": "code",
   "execution_count": 45,
   "metadata": {
    "nbpresent": {
     "id": "259f43bf-6c6b-49d8-a305-b83636129628"
    },
    "slideshow": {
     "slide_type": "fragment"
    }
   },
   "outputs": [
    {
     "ename": "IndexError",
     "evalue": "list index out of range",
     "output_type": "error",
     "traceback": [
      "\u001b[1;31m---------------------------------------------------------------------------\u001b[0m",
      "\u001b[1;31mIndexError\u001b[0m                                Traceback (most recent call last)",
      "\u001b[1;32m<ipython-input-45-64801ca2b69a>\u001b[0m in \u001b[0;36m<module>\u001b[1;34m()\u001b[0m\n\u001b[0;32m      1\u001b[0m states = gis.content.search(\"title:US States Strange Laws*\", \n\u001b[0;32m      2\u001b[0m                                 \u001b[0mitem_type\u001b[0m\u001b[1;33m=\u001b[0m\u001b[1;34m\"feature service\"\u001b[0m\u001b[1;33m,\u001b[0m\u001b[1;33m\u001b[0m\u001b[0m\n\u001b[1;32m----> 3\u001b[1;33m                                 outside_org=False)[0]\n\u001b[0m\u001b[0;32m      4\u001b[0m \u001b[0mmap\u001b[0m\u001b[1;33m.\u001b[0m\u001b[0madd_layer\u001b[0m\u001b[1;33m(\u001b[0m\u001b[0mstates\u001b[0m\u001b[1;33m)\u001b[0m\u001b[1;33m\u001b[0m\u001b[0m\n",
      "\u001b[1;31mIndexError\u001b[0m: list index out of range"
     ]
    }
   ],
   "source": [
    "states = gis.content.search(\"title:US States Strange Laws*\", \n",
    "                                item_type=\"feature service\", \n",
    "                                outside_org=False)[0]\n",
    "map.add_layer(states)"
   ]
  },
  {
   "cell_type": "markdown",
   "metadata": {
    "nbpresent": {
     "id": "e504f614-9a27-4fe3-bdce-b0b3ed4143bf"
    },
    "slideshow": {
     "slide_type": "subslide"
    }
   },
   "source": [
    "#### Delete the item"
   ]
  },
  {
   "cell_type": "code",
   "execution_count": 12,
   "metadata": {
    "nbpresent": {
     "id": "ee3945d2-0aa3-4bbc-8ee4-6c0a4802f3b3"
    },
    "slideshow": {
     "slide_type": "fragment"
    }
   },
   "outputs": [
    {
     "name": "stdout",
     "output_type": "stream",
     "text": [
      "61\n",
      "True\n",
      "True\n",
      "59\n"
     ]
    }
   ],
   "source": [
    "print(len(me.items()))\n",
    "print(res.delete()) # published item\n",
    "print(item.delete()) # feature collection\n",
    "print(len(me.items()))"
   ]
  },
  {
   "cell_type": "markdown",
   "metadata": {
    "nbpresent": {
     "id": "0714f0c7-3922-40e5-9a7a-e7abe8641390"
    },
    "slideshow": {
     "slide_type": "slide"
    }
   },
   "source": [
    "# Working with Users\n",
    "\n",
    "* Create/update/delete users\n",
    "* Modify access\n",
    "* Assign groups\n",
    "<hr/>"
   ]
  },
  {
   "cell_type": "markdown",
   "metadata": {
    "nbpresent": {
     "id": "9d4a3e94-b6c5-463c-8568-7f7cafead4d4"
    },
    "slideshow": {
     "slide_type": "subslide"
    }
   },
   "source": [
    "#### Querying for users"
   ]
  },
  {
   "cell_type": "code",
   "execution_count": 13,
   "metadata": {
    "nbpresent": {
     "id": "462f4e44-a6e5-4eb9-96c7-9e1d3fb1de91"
    },
    "slideshow": {
     "slide_type": "fragment"
    }
   },
   "outputs": [
    {
     "data": {
      "text/plain": [
       "[<User username:acannon_ps>,\n",
       " <User username:aderosier_prof_services>,\n",
       " <User username:ahoupt_prof_services>,\n",
       " <User username:ajain_ps>,\n",
       " <User username:ajuarez_prof_services>,\n",
       " <User username:alaughton_ps>,\n",
       " <User username:alison.moore_PS>,\n",
       " <User username:amason_prof_services>,\n",
       " <User username:andypotts>,\n",
       " <User username:aschulte_prof_services>]"
      ]
     },
     "execution_count": 13,
     "metadata": {},
     "output_type": "execute_result"
    }
   ],
   "source": [
    "gis.users.search()[:10]   "
   ]
  },
  {
   "cell_type": "markdown",
   "metadata": {
    "nbpresent": {
     "id": "dbacda9c-31e1-4c79-a983-72028f935605"
    },
    "slideshow": {
     "slide_type": "subslide"
    }
   },
   "source": [
    "#### Query with wildcards"
   ]
  },
  {
   "cell_type": "code",
   "execution_count": 14,
   "metadata": {
    "nbpresent": {
     "id": "905e7092-67df-4547-be8d-52515cc7ad7e"
    },
    "slideshow": {
     "slide_type": "fragment"
    }
   },
   "outputs": [
    {
     "data": {
      "text/plain": [
       "[<User username:dt80644>, <User username:tmatindeps>]"
      ]
     },
     "execution_count": 14,
     "metadata": {},
     "output_type": "execute_result"
    }
   ],
   "source": [
    "gis.users.search(\"Ted*\")"
   ]
  },
  {
   "cell_type": "markdown",
   "metadata": {
    "nbpresent": {
     "id": "e9f28671-70d8-4b40-ba28-e8ec5f3a778a"
    },
    "slideshow": {
     "slide_type": "subslide"
    }
   },
   "source": [
    "#### Creating Users"
   ]
  },
  {
   "cell_type": "code",
   "execution_count": 16,
   "metadata": {
    "nbpresent": {
     "id": "b1548458-6334-4f71-9e55-ccb429240ac6"
    },
    "slideshow": {
     "slide_type": "fragment"
    }
   },
   "outputs": [
    {
     "name": "stdout",
     "output_type": "stream",
     "text": [
      "········\n"
     ]
    },
    {
     "data": {
      "text/html": [
       "<div class=\"9item_container\" style=\"height: auto; overflow: hidden; border: 1px solid #cfcfcf; border-radius: 2px; background: #f6fafa; line-height: 1.21429em; padding: 10px;\">\n",
       "                    <div class=\"item_left\" style=\"width: 210px; float: left;\">\n",
       "                       <a href='https://teddym2.esri.com/arcgis/home/user.html?user=sheldonBergson3' target='_blank'>\n",
       "                        <img src='https://teddym2.esri.com/arcgis/home/js/arcgisonline/css/images/no-user-thumb.jpg' class=\"itemThumbnail\">\n",
       "                       </a>\n",
       "                    </div>\n",
       "\n",
       "                    <div class=\"item_right\" style=\"float: none; width: auto; overflow: hidden;\">\n",
       "                        <a href='https://teddym2.esri.com/arcgis/home/user.html?user=sheldonBergson3' target='_blank'><b>Sheldon Bergson</b>\n",
       "                        </a>\n",
       "                        <br/><br/><b>Bio</b>: GIS user account\n",
       "                        <br/><b>First Name</b>: Sheldon\n",
       "                        <br/><b>Last Name</b>: Bergson\n",
       "                        <br/><b>Username</b>: sheldonBergson3\n",
       "                        <br/><b>Joined</b>: May 31, 2017\n",
       "\n",
       "                    </div>\n",
       "                </div>\n",
       "                "
      ],
      "text/plain": [
       "<User username:sheldonBergson3>"
      ]
     },
     "execution_count": 16,
     "metadata": {},
     "output_type": "execute_result"
    }
   ],
   "source": [
    "import ssl\n",
    "ssl._create_default_https_context = ssl._create_unverified_context # only for outlaws\n",
    "gis = GIS(url=\"https://teddym2.esri.com/arcgis\", username=\"tmatinde\", \n",
    "          password=getpass())\n",
    "strUsername = \"sheldonBergson3\" #TM remember to change suffix\n",
    "strPassword = \"password1234\"\n",
    "new_user = gis.users.create(firstname=\"Sheldon\", lastname=\"Bergson\",role=\"org_user\",\n",
    "             username=strUsername,\n",
    "             password=strPassword,\n",
    "             description=\"GIS user account\",\n",
    "             email=\"tmatinde1@esri.com\"\n",
    "             )\n",
    "new_user"
   ]
  },
  {
   "cell_type": "code",
   "execution_count": 17,
   "metadata": {
    "nbpresent": {
     "id": "4426ec17-7899-43d6-bca2-a3f24d0e0780"
    },
    "slideshow": {
     "slide_type": "slide"
    }
   },
   "outputs": [
    {
     "data": {
      "text/html": [
       "<div class=\"9item_container\" style=\"height: auto; overflow: hidden; border: 1px solid #cfcfcf; border-radius: 2px; background: #f6fafa; line-height: 1.21429em; padding: 10px;\">\n",
       "                    <div class=\"item_left\" style=\"width: 210px; float: left;\">\n",
       "                       <a href='https://teddym2.esri.com/arcgis/home/user.html?user=sheldonBergson3' target='_blank'>\n",
       "                        <img src='data:image/png;base64,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' width='200' height='133' class=\"itemThumbnail\">\n",
       "                       </a>\n",
       "                    </div>\n",
       "\n",
       "                    <div class=\"item_right\" style=\"float: none; width: auto; overflow: hidden;\">\n",
       "                        <a href='https://teddym2.esri.com/arcgis/home/user.html?user=sheldonBergson3' target='_blank'><b>Sheldon Bergson</b>\n",
       "                        </a>\n",
       "                        <br/><br/><b>Bio</b>: GIS user account\n",
       "                        <br/><b>First Name</b>: Sheldon\n",
       "                        <br/><b>Last Name</b>: Bergson\n",
       "                        <br/><b>Username</b>: sheldonBergson3\n",
       "                        <br/><b>Joined</b>: May 31, 2017\n",
       "\n",
       "                    </div>\n",
       "                </div>\n",
       "                "
      ],
      "text/plain": [
       "<User username:sheldonBergson3>"
      ]
     },
     "execution_count": 17,
     "metadata": {},
     "output_type": "execute_result"
    }
   ],
   "source": [
    "new_user.update(thumbnail=r\"c:\\Maps\\profileImage.jpg\")\n",
    "new_user"
   ]
  },
  {
   "cell_type": "code",
   "execution_count": null,
   "metadata": {
    "collapsed": true,
    "nbpresent": {
     "id": "42c7dddb-d44b-41f3-b36d-437cc00f255a"
    },
    "slideshow": {
     "slide_type": "skip"
    }
   },
   "outputs": [],
   "source": [
    "#new_user.delete()"
   ]
  },
  {
   "cell_type": "markdown",
   "metadata": {
    "nbpresent": {
     "id": "6b3a89d1-5d32-4f18-9eae-cfd97a2a663c"
    },
    "slideshow": {
     "slide_type": "subslide"
    }
   },
   "source": [
    "#### Updating Users"
   ]
  },
  {
   "cell_type": "code",
   "execution_count": 18,
   "metadata": {
    "nbpresent": {
     "id": "2f2b3a41-3407-48b3-8844-ed704bf192a8"
    },
    "slideshow": {
     "slide_type": "fragment"
    }
   },
   "outputs": [
    {
     "data": {
      "text/html": [
       "<div class=\"9item_container\" style=\"height: auto; overflow: hidden; border: 1px solid #cfcfcf; border-radius: 2px; background: #f6fafa; line-height: 1.21429em; padding: 10px;\">\n",
       "                    <div class=\"item_left\" style=\"width: 210px; float: left;\">\n",
       "                       <a href='https://teddym2.esri.com/arcgis/home/user.html?user=sheldonBergson3' target='_blank'>\n",
       "                        <img src='data:image/png;base64,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' width='200' height='133' class=\"itemThumbnail\">\n",
       "                       </a>\n",
       "                    </div>\n",
       "\n",
       "                    <div class=\"item_right\" style=\"float: none; width: auto; overflow: hidden;\">\n",
       "                        <a href='https://teddym2.esri.com/arcgis/home/user.html?user=sheldonBergson3' target='_blank'><b>Sheldon Bergson</b>\n",
       "                        </a>\n",
       "                        <br/><br/><b>Bio</b>: GIS user account\n",
       "                        <br/><b>First Name</b>: Sheldon\n",
       "                        <br/><b>Last Name</b>: Bergson\n",
       "                        <br/><b>Username</b>: sheldonBergson3\n",
       "                        <br/><b>Joined</b>: May 31, 2017\n",
       "\n",
       "                    </div>\n",
       "                </div>\n",
       "                "
      ],
      "text/plain": [
       "<User username:sheldonBergson3>"
      ]
     },
     "execution_count": 18,
     "metadata": {},
     "output_type": "execute_result"
    }
   ],
   "source": [
    "gis = GIS(url=\"https://teddym2.esri.com/arcgis\", username=strUsername, \n",
    "          password=strPassword)\n",
    "me = gis.users.me\n",
    "me "
   ]
  },
  {
   "cell_type": "code",
   "execution_count": 19,
   "metadata": {
    "nbpresent": {
     "id": "135fec8e-8797-4dfc-891b-a30cb1b143d3"
    },
    "slideshow": {
     "slide_type": "fragment"
    }
   },
   "outputs": [
    {
     "data": {
      "text/plain": [
       "True"
      ]
     },
     "execution_count": 19,
     "metadata": {},
     "output_type": "execute_result"
    }
   ],
   "source": [
    "me.update(fullname=\"Znoneofthe Above\")"
   ]
  },
  {
   "cell_type": "code",
   "execution_count": 20,
   "metadata": {
    "nbpresent": {
     "id": "19c9d8c3-6b22-4949-8cae-b9f4ffd69364"
    },
    "slideshow": {
     "slide_type": "fragment"
    }
   },
   "outputs": [
    {
     "data": {
      "text/html": [
       "<div class=\"9item_container\" style=\"height: auto; overflow: hidden; border: 1px solid #cfcfcf; border-radius: 2px; background: #f6fafa; line-height: 1.21429em; padding: 10px;\">\n",
       "                    <div class=\"item_left\" style=\"width: 210px; float: left;\">\n",
       "                       <a href='https://teddym2.esri.com/arcgis/home/user.html?user=sheldonBergson3' target='_blank'>\n",
       "                        <img src='data:image/png;base64,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' width='200' height='133' class=\"itemThumbnail\">\n",
       "                       </a>\n",
       "                    </div>\n",
       "\n",
       "                    <div class=\"item_right\" style=\"float: none; width: auto; overflow: hidden;\">\n",
       "                        <a href='https://teddym2.esri.com/arcgis/home/user.html?user=sheldonBergson3' target='_blank'><b>Znoneofthe Above</b>\n",
       "                        </a>\n",
       "                        <br/><br/><b>Bio</b>: GIS user account\n",
       "                        <br/><b>First Name</b>: Sheldon\n",
       "                        <br/><b>Last Name</b>: Bergson\n",
       "                        <br/><b>Username</b>: sheldonBergson3\n",
       "                        <br/><b>Joined</b>: May 31, 2017\n",
       "\n",
       "                    </div>\n",
       "                </div>\n",
       "                "
      ],
      "text/plain": [
       "<User username:sheldonBergson3>"
      ]
     },
     "execution_count": 20,
     "metadata": {},
     "output_type": "execute_result"
    }
   ],
   "source": [
    "me "
   ]
  },
  {
   "cell_type": "markdown",
   "metadata": {
    "nbpresent": {
     "id": "e8aaa41b-334a-4bb9-9110-cae97a1ac137"
    },
    "slideshow": {
     "slide_type": "slide"
    }
   },
   "source": [
    "## Working with Groups"
   ]
  },
  {
   "cell_type": "code",
   "execution_count": 21,
   "metadata": {
    "nbpresent": {
     "id": "74c365b7-2536-4bd9-a8bd-5d853095a5e4"
    },
    "slideshow": {
     "slide_type": "fragment"
    }
   },
   "outputs": [
    {
     "name": "stdout",
     "output_type": "stream",
     "text": [
      "········\n"
     ]
    },
    {
     "data": {
      "text/plain": [
       "[<Group title:\"Geographers\" owner:tmatinde>]"
      ]
     },
     "execution_count": 21,
     "metadata": {},
     "output_type": "execute_result"
    }
   ],
   "source": [
    "gis = GIS(url=\"https://teddym2.esri.com/arcgis\",\n",
    "          username=\"tmatinde\", password=getpass())\n",
    "groups = gis.groups.search(query=\"title: geog*\")\n",
    "groups"
   ]
  },
  {
   "cell_type": "markdown",
   "metadata": {
    "nbpresent": {
     "id": "94bbedab-4396-453e-aa4a-6f4726b6838b"
    },
    "slideshow": {
     "slide_type": "subslide"
    }
   },
   "source": [
    "##### Creating a Group"
   ]
  },
  {
   "cell_type": "code",
   "execution_count": 22,
   "metadata": {
    "nbpresent": {
     "id": "cd5ad292-fd0b-4de6-87ad-b68d07766ee2"
    },
    "slideshow": {
     "slide_type": "fragment"
    }
   },
   "outputs": [
    {
     "data": {
      "text/html": [
       "<div class=\"9item_container\" style=\"height: auto; overflow: hidden; border: 1px solid #cfcfcf; border-radius: 2px; background: #f6fafa; line-height: 1.21429em; padding: 10px;\">\n",
       "                    <div class=\"item_left\" style=\"width: 210px; float: left;\">\n",
       "                       <a href='https://teddym2.esri.com/arcgis/home/group.html?id=e3b81224d2df4792ac4058b8d98e5c00' target='_blank'>\n",
       "                        <img src='data:image/png;base64,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' ' class=\"itemThumbnail\">\n",
       "                       </a>\n",
       "                    </div>\n",
       "\n",
       "                    <div class=\"item_right\" style=\"float: none; width: auto; overflow: hidden;\">\n",
       "                        <a href='https://teddym2.esri.com/arcgis/home/group.html?id=e3b81224d2df4792ac4058b8d98e5c00' target='_blank'><b>GeoDesign Group</b>\n",
       "                        </a>\n",
       "                        <br/>\n",
       "                        <br/><b>Summary</b>: A group to share data related geodesign\n",
       "                        <br/><b>Description</b>: Analysis, visualization, modeling of Web GIS data\n",
       "                        <br/><b>Owner</b>: tmatinde\n",
       "                        <br/><b>Created</b>: May 31, 2017\n",
       "\n",
       "                    </div>\n",
       "                </div>\n",
       "                "
      ],
      "text/plain": [
       "<Group title:\"GeoDesign Group\" owner:tmatinde>"
      ]
     },
     "execution_count": 22,
     "metadata": {},
     "output_type": "execute_result"
    }
   ],
   "source": [
    "group_summary = 'A group to share data related geodesign'\n",
    "group_description = 'Analysis, visualization, modeling of Web GIS data'\n",
    "\n",
    "data_group = gis.groups.create(title='GeoDesign Group', tags='data, big data, design', \n",
    "                      description=group_description,\n",
    "                      snippet=group_summary,\n",
    "                     thumbnail=r\"c:\\Maps\\geodesign.jpg\")\n",
    "data_group"
   ]
  },
  {
   "cell_type": "markdown",
   "metadata": {
    "nbpresent": {
     "id": "1313c3d4-8527-435e-96b5-4d24bc950dab"
    },
    "slideshow": {
     "slide_type": "fragment"
    }
   },
   "source": [
    "#### Add a User to a Group"
   ]
  },
  {
   "cell_type": "code",
   "execution_count": 23,
   "metadata": {
    "nbpresent": {
     "id": "021c72fc-7c8f-4bc1-bf25-c90be8af15e0"
    },
    "slideshow": {
     "slide_type": "fragment"
    }
   },
   "outputs": [
    {
     "data": {
      "text/plain": [
       "{'notAdded': []}"
      ]
     },
     "execution_count": 23,
     "metadata": {},
     "output_type": "execute_result"
    }
   ],
   "source": [
    "data_group.add_users(usernames=[strUsername])"
   ]
  },
  {
   "cell_type": "markdown",
   "metadata": {
    "nbpresent": {
     "id": "e5816488-2296-46a5-9397-29d897f4a581"
    },
    "slideshow": {
     "slide_type": "subslide"
    }
   },
   "source": [
    "#### Delete the Group"
   ]
  },
  {
   "cell_type": "code",
   "execution_count": 24,
   "metadata": {
    "nbpresent": {
     "id": "0eb24209-19ed-42a8-b32c-2ac545cc2ddd"
    },
    "slideshow": {
     "slide_type": "fragment"
    }
   },
   "outputs": [
    {
     "data": {
      "text/plain": [
       "True"
      ]
     },
     "execution_count": 24,
     "metadata": {},
     "output_type": "execute_result"
    }
   ],
   "source": [
    "data_group.delete()"
   ]
  },
  {
   "cell_type": "code",
   "execution_count": null,
   "metadata": {
    "collapsed": true,
    "nbpresent": {
     "id": "d996cbf7-0622-4966-a881-6b7e57876324"
    },
    "slideshow": {
     "slide_type": "skip"
    }
   },
   "outputs": [],
   "source": [
    "#me.update(fullname=\"John Doe\")"
   ]
  },
  {
   "cell_type": "markdown",
   "metadata": {
    "collapsed": true,
    "nbpresent": {
     "id": "c1173f83-454e-47cd-aa93-b7a37c2b56db"
    },
    "slideshow": {
     "slide_type": "slide"
    }
   },
   "source": [
    "# New Way to Work with Data\n",
    "<hr/>\n",
    "<img src=\"staticimg/Pandas.png\" alt=\"pandas\" style=\"width:228px;height:228px;\">\n",
    "<hr/>"
   ]
  },
  {
   "cell_type": "markdown",
   "metadata": {
    "nbpresent": {
     "id": "3808931b-10e3-4da5-ad66-dd39ac883d0f"
    },
    "slideshow": {
     "slide_type": "subslide"
    }
   },
   "source": [
    "### Pandas \n",
    "\n",
    "##### A Python package providing fast, flexible, and expressive data structures designed to make working with \"relational\" or \"labeled\" data both easy and intuitive. It aims to be the fundamental high-level building block for doing practical, real world data analysis in Python.\n",
    "\n",
    "\n",
    "(source: https://github.com/pandas-dev/pandas)"
   ]
  },
  {
   "cell_type": "markdown",
   "metadata": {
    "nbpresent": {
     "id": "e1d7cef6-3e9b-49da-80ce-b7b895168e60"
    },
    "slideshow": {
     "slide_type": "fragment"
    }
   },
   "source": [
    "### Esri's Spatail Pandas\n",
    "\n",
    " - **An extension of Pandas for spatial data**\n",
    " - **Easy to use**\n",
    " - **combines the desktop GIS with Web GIS**\n",
    " - **On the fly spatial indexing**"
   ]
  },
  {
   "cell_type": "markdown",
   "metadata": {
    "nbpresent": {
     "id": "4acbfe72-b7d2-4dc6-a20a-018baac9f4eb"
    },
    "slideshow": {
     "slide_type": "subslide"
    }
   },
   "source": [
    "## Why Spatial DataFrames?\n",
    "<img src=\"staticimg/bridge.png\" alt=\"pandas\" style=\"width:500px;height:228px;\">\n",
    "<hr/>\n",
    "* Makes data tactile\n",
    "* Brings Desktop and Web GIS together\n",
    "* Easy to use"
   ]
  },
  {
   "cell_type": "markdown",
   "metadata": {
    "nbpresent": {
     "id": "af0c7fb0-4d83-48f1-aa04-6e1597de2f93"
    },
    "slideshow": {
     "slide_type": "subslide"
    }
   },
   "source": [
    "### Example: Loading Data\n",
    "<hr/>"
   ]
  },
  {
   "cell_type": "code",
   "execution_count": 25,
   "metadata": {
    "nbpresent": {
     "id": "4d8bdf08-f162-497d-b89c-716850bf93c2"
    },
    "slideshow": {
     "slide_type": "fragment"
    }
   },
   "outputs": [
    {
     "name": "stdout",
     "output_type": "stream",
     "text": [
      "Loaded spatialdataframe\n"
     ]
    }
   ],
   "source": [
    "from arcgis import SpatialDataFrame\n",
    "from arcgis.data.geodataset.io import from_layer\n",
    "print(\"Loaded spatialdataframe\")"
   ]
  },
  {
   "cell_type": "markdown",
   "metadata": {
    "nbpresent": {
     "id": "7f59a28e-df6e-4147-b623-5030924c322f"
    },
    "slideshow": {
     "slide_type": "fragment"
    }
   },
   "source": [
    "#### Import a Feature Layer"
   ]
  },
  {
   "cell_type": "code",
   "execution_count": 26,
   "metadata": {
    "nbpresent": {
     "id": "4d52f568-6cfa-43e4-8a83-4f508b7ad564"
    },
    "slideshow": {
     "slide_type": "fragment"
    }
   },
   "outputs": [
    {
     "data": {
      "text/html": [
       "<div>\n",
       "<table border=\"1\" class=\"dataframe\">\n",
       "  <thead>\n",
       "    <tr style=\"text-align: right;\">\n",
       "      <th></th>\n",
       "      <th>AFF_ISO</th>\n",
       "      <th>COUNTRYAFF</th>\n",
       "      <th>Country</th>\n",
       "      <th>FID</th>\n",
       "      <th>ISO</th>\n",
       "      <th>SHAPE</th>\n",
       "    </tr>\n",
       "  </thead>\n",
       "  <tbody>\n",
       "    <tr>\n",
       "      <th>0</th>\n",
       "      <td>FK</td>\n",
       "      <td>United Kingdom</td>\n",
       "      <td>Falkland Islands</td>\n",
       "      <td>1</td>\n",
       "      <td>FK</td>\n",
       "      <td>{'rings': [[[-6606596.26482308, -6862393.47442...</td>\n",
       "    </tr>\n",
       "    <tr>\n",
       "      <th>1</th>\n",
       "      <td>FR</td>\n",
       "      <td>France</td>\n",
       "      <td>French Guiana</td>\n",
       "      <td>2</td>\n",
       "      <td>GF</td>\n",
       "      <td>{'rings': [[[-6078465.19716979, 259355.8059185...</td>\n",
       "    </tr>\n",
       "    <tr>\n",
       "      <th>2</th>\n",
       "      <td>GY</td>\n",
       "      <td>Guyana</td>\n",
       "      <td>Guyana</td>\n",
       "      <td>3</td>\n",
       "      <td>GY</td>\n",
       "      <td>{'rings': [[[-6475746.20510377, 760125.6448030...</td>\n",
       "    </tr>\n",
       "  </tbody>\n",
       "</table>\n",
       "</div>"
      ],
      "text/plain": [
       "  AFF_ISO      COUNTRYAFF           Country  FID ISO  \\\n",
       "0      FK  United Kingdom  Falkland Islands    1  FK   \n",
       "1      FR          France     French Guiana    2  GF   \n",
       "2      GY          Guyana            Guyana    3  GY   \n",
       "\n",
       "                                               SHAPE  \n",
       "0  {'rings': [[[-6606596.26482308, -6862393.47442...  \n",
       "1  {'rings': [[[-6078465.19716979, 259355.8059185...  \n",
       "2  {'rings': [[[-6475746.20510377, 760125.6448030...  "
      ]
     },
     "execution_count": 26,
     "metadata": {},
     "output_type": "execute_result"
    }
   ],
   "source": [
    "from arcgis.features import FeatureLayer\n",
    "url = \"http://services.arcgis.com/P3ePLMYs2RVChkJx/arcgis/rest/services/World_Countries_(Generalized)/FeatureServer/0\"\n",
    "sdf_states = from_layer(FeatureLayer(url))\n",
    "sdf_states[:3]"
   ]
  },
  {
   "cell_type": "markdown",
   "metadata": {
    "nbpresent": {
     "id": "e196ba8f-4f3a-4f96-aaa9-8a35a81c2c1c"
    },
    "slideshow": {
     "slide_type": "subslide"
    }
   },
   "source": [
    "#### How to Make Non-Spatial DataFrame Spatial\n",
    "<hr/>\n"
   ]
  },
  {
   "cell_type": "code",
   "execution_count": 27,
   "metadata": {
    "nbpresent": {
     "id": "c031c6f4-cb84-420d-91cd-aaeeb46732ac"
    },
    "slideshow": {
     "slide_type": "fragment"
    }
   },
   "outputs": [
    {
     "data": {
      "text/plain": [
       "'C:\\\\Maps\\\\scratch.gdb\\\\b46892577a29e463980d98b073f5093a1'"
      ]
     },
     "execution_count": 27,
     "metadata": {},
     "output_type": "execute_result"
    }
   ],
   "source": [
    "#From http://www.elbruz.org/special-projects/islands-and-lakes/\n",
    "import pandas as pd\n",
    "import uuid\n",
    "import arcpy\n",
    "from arcgis import SpatialDataFrame\n",
    "from arcgis.geometry.types import Geometry\n",
    "df = pd.read_csv(filepath_or_buffer='C:/Maps/islandsGalore.csv',\n",
    "                  index_col=None)\n",
    "df[:3]\n",
    "df['SHAPE'] = None\n",
    "for idx, x,y in df[['longitude','latitude']].to_records():\n",
    "    geom = Geometry({\"x\" : x, \"y\" : y, \n",
    "                           \"spatialReference\" : {\"wkid\" : 4326}})\n",
    "    geom1 = geom.project_as(arcpy.SpatialReference(102100), None)\n",
    "    df.set_value(idx, 'SHAPE', geom1, None)\n",
    "df = SpatialDataFrame(df)\n",
    "df.geometry = df['SHAPE']\n",
    "dfIslands = df\n",
    "fcIslands = df.to_featureclass(\n",
    "    out_location=r\"C:\\maps\\scratch.gdb\",\n",
    "    out_name=\"b\" + uuid.uuid4().hex)\n",
    "fcIslands\n"
   ]
  },
  {
   "cell_type": "markdown",
   "metadata": {
    "nbpresent": {
     "id": "7624c529-f4f0-4c03-a3ed-03d5884c0e0c"
    },
    "slideshow": {
     "slide_type": "slide"
    }
   },
   "source": [
    "##### Import a Feature Class\n",
    "\n",
    "* Includes all supported feature class types arcpy supports"
   ]
  },
  {
   "cell_type": "code",
   "execution_count": 28,
   "metadata": {
    "nbpresent": {
     "id": "b147bdf7-8281-4220-abb5-30d6e3f1293a"
    },
    "slideshow": {
     "slide_type": "fragment"
    }
   },
   "outputs": [
    {
     "data": {
      "text/html": [
       "<div>\n",
       "<table border=\"1\" class=\"dataframe\">\n",
       "  <thead>\n",
       "    <tr style=\"text-align: right;\">\n",
       "      <th></th>\n",
       "      <th>OBJECTID</th>\n",
       "      <th>idx</th>\n",
       "      <th>title</th>\n",
       "      <th>Place</th>\n",
       "      <th>latitude</th>\n",
       "      <th>longitude</th>\n",
       "      <th>SHAPE</th>\n",
       "    </tr>\n",
       "  </thead>\n",
       "  <tbody>\n",
       "    <tr>\n",
       "      <th>0</th>\n",
       "      <td>1</td>\n",
       "      <td>0.0</td>\n",
       "      <td>Largest Island</td>\n",
       "      <td>Greenland</td>\n",
       "      <td>68.568726</td>\n",
       "      <td>-74.952354</td>\n",
       "      <td>{'spatialReference': {'wkid': 102100, 'latestW...</td>\n",
       "    </tr>\n",
       "    <tr>\n",
       "      <th>1</th>\n",
       "      <td>2</td>\n",
       "      <td>1.0</td>\n",
       "      <td>Largest Lake</td>\n",
       "      <td>Caspain Sea</td>\n",
       "      <td>41.484158</td>\n",
       "      <td>49.323463</td>\n",
       "      <td>{'spatialReference': {'wkid': 102100, 'latestW...</td>\n",
       "    </tr>\n",
       "    <tr>\n",
       "      <th>2</th>\n",
       "      <td>3</td>\n",
       "      <td>2.0</td>\n",
       "      <td>Largest lake on an island</td>\n",
       "      <td>Nettling Lake</td>\n",
       "      <td>66.500000</td>\n",
       "      <td>-73.074547</td>\n",
       "      <td>{'spatialReference': {'wkid': 102100, 'latestW...</td>\n",
       "    </tr>\n",
       "    <tr>\n",
       "      <th>3</th>\n",
       "      <td>4</td>\n",
       "      <td>3.0</td>\n",
       "      <td>Largest island in a lake</td>\n",
       "      <td>Mantoulin Island</td>\n",
       "      <td>45.756184</td>\n",
       "      <td>-82.962418</td>\n",
       "      <td>{'spatialReference': {'wkid': 102100, 'latestW...</td>\n",
       "    </tr>\n",
       "    <tr>\n",
       "      <th>4</th>\n",
       "      <td>5</td>\n",
       "      <td>4.0</td>\n",
       "      <td>Largest island in a lake on an island</td>\n",
       "      <td>Pulau Samosir in Danau Toba on Sumatera</td>\n",
       "      <td>2.594225</td>\n",
       "      <td>98.698013</td>\n",
       "      <td>{'spatialReference': {'wkid': 102100, 'latestW...</td>\n",
       "    </tr>\n",
       "    <tr>\n",
       "      <th>5</th>\n",
       "      <td>6</td>\n",
       "      <td>5.0</td>\n",
       "      <td>Largest lake on an island in a lake</td>\n",
       "      <td>Lake Manitou on Manitoulin Island in Lake Huro...</td>\n",
       "      <td>45.781921</td>\n",
       "      <td>-82.130577</td>\n",
       "      <td>{'spatialReference': {'wkid': 102100, 'latestW...</td>\n",
       "    </tr>\n",
       "    <tr>\n",
       "      <th>6</th>\n",
       "      <td>7</td>\n",
       "      <td>6.0</td>\n",
       "      <td>Largest lake on an island in a lake on an island</td>\n",
       "      <td>Crater Lake on Vulcano Island in Lake Taal on ...</td>\n",
       "      <td>13.984963</td>\n",
       "      <td>120.945793</td>\n",
       "      <td>{'spatialReference': {'wkid': 102100, 'latestW...</td>\n",
       "    </tr>\n",
       "    <tr>\n",
       "      <th>7</th>\n",
       "      <td>8</td>\n",
       "      <td>7.0</td>\n",
       "      <td>Largest island in a lake on an island in a lake</td>\n",
       "      <td>Island in Mindemoya Lake on Manitoulin Island ...</td>\n",
       "      <td>45.756306</td>\n",
       "      <td>-82.270744</td>\n",
       "      <td>{'spatialReference': {'wkid': 102100, 'latestW...</td>\n",
       "    </tr>\n",
       "    <tr>\n",
       "      <th>8</th>\n",
       "      <td>9</td>\n",
       "      <td>8.0</td>\n",
       "      <td>Largest island in a lake on an island in a lak...</td>\n",
       "      <td>Vulcan point in Crater Lake on Vulcano Island ...</td>\n",
       "      <td>13.984963</td>\n",
       "      <td>120.945793</td>\n",
       "      <td>{'spatialReference': {'wkid': 102100, 'latestW...</td>\n",
       "    </tr>\n",
       "  </tbody>\n",
       "</table>\n",
       "</div>"
      ],
      "text/plain": [
       "   OBJECTID  idx                                              title  \\\n",
       "0         1  0.0                                     Largest Island   \n",
       "1         2  1.0                                       Largest Lake   \n",
       "2         3  2.0                          Largest lake on an island   \n",
       "3         4  3.0                           Largest island in a lake   \n",
       "4         5  4.0              Largest island in a lake on an island   \n",
       "5         6  5.0                Largest lake on an island in a lake   \n",
       "6         7  6.0   Largest lake on an island in a lake on an island   \n",
       "7         8  7.0    Largest island in a lake on an island in a lake   \n",
       "8         9  8.0  Largest island in a lake on an island in a lak...   \n",
       "\n",
       "                                               Place   latitude   longitude  \\\n",
       "0                                          Greenland  68.568726  -74.952354   \n",
       "1                                        Caspain Sea  41.484158   49.323463   \n",
       "2                                      Nettling Lake  66.500000  -73.074547   \n",
       "3                                   Mantoulin Island  45.756184  -82.962418   \n",
       "4            Pulau Samosir in Danau Toba on Sumatera   2.594225   98.698013   \n",
       "5  Lake Manitou on Manitoulin Island in Lake Huro...  45.781921  -82.130577   \n",
       "6  Crater Lake on Vulcano Island in Lake Taal on ...  13.984963  120.945793   \n",
       "7  Island in Mindemoya Lake on Manitoulin Island ...  45.756306  -82.270744   \n",
       "8  Vulcan point in Crater Lake on Vulcano Island ...  13.984963  120.945793   \n",
       "\n",
       "                                               SHAPE  \n",
       "0  {'spatialReference': {'wkid': 102100, 'latestW...  \n",
       "1  {'spatialReference': {'wkid': 102100, 'latestW...  \n",
       "2  {'spatialReference': {'wkid': 102100, 'latestW...  \n",
       "3  {'spatialReference': {'wkid': 102100, 'latestW...  \n",
       "4  {'spatialReference': {'wkid': 102100, 'latestW...  \n",
       "5  {'spatialReference': {'wkid': 102100, 'latestW...  \n",
       "6  {'spatialReference': {'wkid': 102100, 'latestW...  \n",
       "7  {'spatialReference': {'wkid': 102100, 'latestW...  \n",
       "8  {'spatialReference': {'wkid': 102100, 'latestW...  "
      ]
     },
     "execution_count": 28,
     "metadata": {},
     "output_type": "execute_result"
    }
   ],
   "source": [
    "import arcpy\n",
    "sdf_islands = SpatialDataFrame.from_featureclass(fcIslands)\n",
    "sdf_islands"
   ]
  },
  {
   "cell_type": "markdown",
   "metadata": {
    "collapsed": true,
    "nbpresent": {
     "id": "d07946da-9640-4979-a951-0de1c4a0c872"
    },
    "slideshow": {
     "slide_type": "slide"
    }
   },
   "source": [
    "### Manipulating Data\n",
    "<hr/>\n",
    "* Works like a regular dataframe\n",
    "* Supports many operations: groupby, selections, aggregation \n"
   ]
  },
  {
   "cell_type": "markdown",
   "metadata": {
    "nbpresent": {
     "id": "7eeab5f9-fb7a-4c4d-ae01-012d0e2e5bde"
    },
    "slideshow": {
     "slide_type": "subslide"
    }
   },
   "source": [
    "##### Spatial Selection\n",
    "###### Using Arcpy"
   ]
  },
  {
   "cell_type": "markdown",
   "metadata": {
    "nbpresent": {
     "id": "29c90fb5-0330-46bc-b1dd-9c52bdad2381"
    },
    "slideshow": {
     "slide_type": "fragment"
    }
   },
   "source": [
    "<pre><code>import arcpy\n",
    "st_lyr = arcpy.MakeFeatureLayer_management(\n",
    "         in_features=\"states\", \n",
    "         out_layer=\"states_Layer\", \n",
    "         where_clause=\"AFF_ISO = 'CA'\")[0]\n",
    "city_lyr = arcpy.MakeFeatureLayer_management(\n",
    "           in_features=\"islandsGalore\", \n",
    "           out_layer=\"islandsGalore_Layer\")[0]\n",
    "arcpy.SelectLayerByLocation_management(\n",
    "                 in_layer=\"islandsGalore_Layer\", \n",
    "                 overlap_type=\"INTERSECT\", \n",
    "                 select_features=\"states_Layer\")\n",
    "</code></pre>"
   ]
  },
  {
   "cell_type": "markdown",
   "metadata": {
    "nbpresent": {
     "id": "9b2e4d1b-596a-4b94-ab8e-324088c7cffc"
    },
    "slideshow": {
     "slide_type": "skip"
    }
   },
   "source": [
    "##### Spatial Selection\n",
    "###### Using Spatial DataFrame"
   ]
  },
  {
   "cell_type": "markdown",
   "metadata": {
    "collapsed": true,
    "nbpresent": {
     "id": "52485347-5a05-4b90-b194-aa5fe7ab3095"
    },
    "slideshow": {
     "slide_type": "subslide"
    }
   },
   "source": [
    "### Spatial Index\n",
    "\n",
    " - **Created when you need them**\n",
    " - ** QuadTree indexing**"
   ]
  },
  {
   "cell_type": "code",
   "execution_count": 29,
   "metadata": {
    "collapsed": true,
    "nbpresent": {
     "id": "71d7c49c-bc07-4541-9b54-a725e0316ff4"
    },
    "slideshow": {
     "slide_type": "fragment"
    }
   },
   "outputs": [],
   "source": [
    "\n",
    "geom = sdf_states[sdf_states['AFF_ISO'] == 'CA']\n",
    "geomTmp = geom[['SHAPE']]\n",
    "geom = Geometry(geomTmp.values[0][0])\n",
    "s_idx = sdf_islands.sindex.intersect([geom.extent.XMin, geom.extent.YMin, \n",
    "                                     geom.extent.XMax, geom.extent.YMax])\n",
    "sub = sdf_islands.loc[s_idx] \n",
    "q = sub.geometry.disjoint(geom) == False # means intersect. returns true/false indexes\n",
    "sdf_caInterestingLakes = sub[q].copy()"
   ]
  },
  {
   "cell_type": "code",
   "execution_count": 30,
   "metadata": {
    "nbpresent": {
     "id": "944ea8ad-21df-4a69-953f-8f91d0f769e0"
    },
    "slideshow": {
     "slide_type": "fragment"
    }
   },
   "outputs": [
    {
     "data": {
      "text/html": [
       "<div>\n",
       "<table border=\"1\" class=\"dataframe\">\n",
       "  <thead>\n",
       "    <tr style=\"text-align: right;\">\n",
       "      <th></th>\n",
       "      <th>OBJECTID</th>\n",
       "      <th>idx</th>\n",
       "      <th>title</th>\n",
       "      <th>Place</th>\n",
       "      <th>latitude</th>\n",
       "      <th>longitude</th>\n",
       "      <th>SHAPE</th>\n",
       "    </tr>\n",
       "  </thead>\n",
       "  <tbody>\n",
       "    <tr>\n",
       "      <th>0</th>\n",
       "      <td>1</td>\n",
       "      <td>0.0</td>\n",
       "      <td>Largest Island</td>\n",
       "      <td>Greenland</td>\n",
       "      <td>68.568726</td>\n",
       "      <td>-74.952354</td>\n",
       "      <td>{'spatialReference': {'wkid': 102100, 'latestW...</td>\n",
       "    </tr>\n",
       "    <tr>\n",
       "      <th>2</th>\n",
       "      <td>3</td>\n",
       "      <td>2.0</td>\n",
       "      <td>Largest lake on an island</td>\n",
       "      <td>Nettling Lake</td>\n",
       "      <td>66.500000</td>\n",
       "      <td>-73.074547</td>\n",
       "      <td>{'spatialReference': {'wkid': 102100, 'latestW...</td>\n",
       "    </tr>\n",
       "    <tr>\n",
       "      <th>3</th>\n",
       "      <td>4</td>\n",
       "      <td>3.0</td>\n",
       "      <td>Largest island in a lake</td>\n",
       "      <td>Mantoulin Island</td>\n",
       "      <td>45.756184</td>\n",
       "      <td>-82.962418</td>\n",
       "      <td>{'spatialReference': {'wkid': 102100, 'latestW...</td>\n",
       "    </tr>\n",
       "    <tr>\n",
       "      <th>5</th>\n",
       "      <td>6</td>\n",
       "      <td>5.0</td>\n",
       "      <td>Largest lake on an island in a lake</td>\n",
       "      <td>Lake Manitou on Manitoulin Island in Lake Huro...</td>\n",
       "      <td>45.781921</td>\n",
       "      <td>-82.130577</td>\n",
       "      <td>{'spatialReference': {'wkid': 102100, 'latestW...</td>\n",
       "    </tr>\n",
       "    <tr>\n",
       "      <th>7</th>\n",
       "      <td>8</td>\n",
       "      <td>7.0</td>\n",
       "      <td>Largest island in a lake on an island in a lake</td>\n",
       "      <td>Island in Mindemoya Lake on Manitoulin Island ...</td>\n",
       "      <td>45.756306</td>\n",
       "      <td>-82.270744</td>\n",
       "      <td>{'spatialReference': {'wkid': 102100, 'latestW...</td>\n",
       "    </tr>\n",
       "  </tbody>\n",
       "</table>\n",
       "</div>"
      ],
      "text/plain": [
       "   OBJECTID  idx                                            title  \\\n",
       "0         1  0.0                                   Largest Island   \n",
       "2         3  2.0                        Largest lake on an island   \n",
       "3         4  3.0                         Largest island in a lake   \n",
       "5         6  5.0              Largest lake on an island in a lake   \n",
       "7         8  7.0  Largest island in a lake on an island in a lake   \n",
       "\n",
       "                                               Place   latitude  longitude  \\\n",
       "0                                          Greenland  68.568726 -74.952354   \n",
       "2                                      Nettling Lake  66.500000 -73.074547   \n",
       "3                                   Mantoulin Island  45.756184 -82.962418   \n",
       "5  Lake Manitou on Manitoulin Island in Lake Huro...  45.781921 -82.130577   \n",
       "7  Island in Mindemoya Lake on Manitoulin Island ...  45.756306 -82.270744   \n",
       "\n",
       "                                               SHAPE  \n",
       "0  {'spatialReference': {'wkid': 102100, 'latestW...  \n",
       "2  {'spatialReference': {'wkid': 102100, 'latestW...  \n",
       "3  {'spatialReference': {'wkid': 102100, 'latestW...  \n",
       "5  {'spatialReference': {'wkid': 102100, 'latestW...  \n",
       "7  {'spatialReference': {'wkid': 102100, 'latestW...  "
      ]
     },
     "execution_count": 30,
     "metadata": {},
     "output_type": "execute_result"
    }
   ],
   "source": [
    "sdf_caInterestingLakes"
   ]
  },
  {
   "cell_type": "code",
   "execution_count": null,
   "metadata": {
    "collapsed": true,
    "slideshow": {
     "slide_type": "skip"
    }
   },
   "outputs": [],
   "source": [
    "from arcgis.features import FeatureLayer \n",
    "url = \"http://services.arcgis.com/P3ePLMYs2RVChkJx/arcgis/rest/services/World_Countries_(Generalized)/FeatureServer/0\"\n",
    "fl = FeatureLayer(url);\n"
   ]
  },
  {
   "cell_type": "markdown",
   "metadata": {
    "nbpresent": {
     "id": "6ba8d77a-c8f5-4042-92eb-83b4667f75f6"
    },
    "slideshow": {
     "slide_type": "subslide"
    }
   },
   "source": [
    "##### Attribute Selection"
   ]
  },
  {
   "cell_type": "markdown",
   "metadata": {
    "nbpresent": {
     "id": "0bb64a28-0a09-4e61-85a6-a2bd3d50d694"
    },
    "slideshow": {
     "slide_type": "fragment"
    }
   },
   "source": [
    "##### Using Arcpy"
   ]
  },
  {
   "cell_type": "markdown",
   "metadata": {
    "nbpresent": {
     "id": "05729abc-81be-4a2f-9cfd-0c70ee58d892"
    },
    "slideshow": {
     "slide_type": "fragment"
    }
   },
   "source": [
    "<pre><code>import arcpy\n",
    "\n",
    "st_lyr = arcpy.MakeFeatureLayer_management(in_features=\"states\", \n",
    "     out_layer=\"states_Layer\", \n",
    "     where_clause=\"AFF_ISO = 'CA' and AFF_ISO = 'US'\")[0]\n",
    "\n",
    "fields = [field.name for field in arcpy.ListFields(st_lyr)]\n",
    "with arcpy.da.SearchCursor(st_lyr, fields) as rows:\n",
    "     for row in rows:\n",
    "         # do stuff with each row\n",
    "</code></pre>         \n"
   ]
  },
  {
   "cell_type": "markdown",
   "metadata": {
    "nbpresent": {
     "id": "56427ad7-f202-43cc-a17b-a31cf078ecb8"
    },
    "slideshow": {
     "slide_type": "subslide"
    }
   },
   "source": [
    "##### Using Spatial DataFrame"
   ]
  },
  {
   "cell_type": "code",
   "execution_count": 31,
   "metadata": {
    "nbpresent": {
     "id": "db4ad1c5-0284-4829-958e-8a50617922be"
    },
    "slideshow": {
     "slide_type": "fragment"
    }
   },
   "outputs": [
    {
     "data": {
      "text/html": [
       "<div>\n",
       "<table border=\"1\" class=\"dataframe\">\n",
       "  <thead>\n",
       "    <tr style=\"text-align: right;\">\n",
       "      <th></th>\n",
       "      <th>AFF_ISO</th>\n",
       "      <th>COUNTRYAFF</th>\n",
       "      <th>Country</th>\n",
       "      <th>FID</th>\n",
       "      <th>ISO</th>\n",
       "      <th>SHAPE</th>\n",
       "    </tr>\n",
       "  </thead>\n",
       "  <tbody>\n",
       "    <tr>\n",
       "      <th>16</th>\n",
       "      <td>US</td>\n",
       "      <td>United States</td>\n",
       "      <td>American Samoa</td>\n",
       "      <td>17</td>\n",
       "      <td>AS</td>\n",
       "      <td>{'rings': [[[-19007124.004548, -1617338.540375...</td>\n",
       "    </tr>\n",
       "    <tr>\n",
       "      <th>24</th>\n",
       "      <td>US</td>\n",
       "      <td>United States</td>\n",
       "      <td>Jarvis Island</td>\n",
       "      <td>25</td>\n",
       "      <td>UM</td>\n",
       "      <td>{'rings': [[[-17813472.3754007, -44311.6306269...</td>\n",
       "    </tr>\n",
       "    <tr>\n",
       "      <th>45</th>\n",
       "      <td>US</td>\n",
       "      <td>United States</td>\n",
       "      <td>United States</td>\n",
       "      <td>46</td>\n",
       "      <td>US</td>\n",
       "      <td>{'rings': [[[-8504253.49161663, 4754669.580065...</td>\n",
       "    </tr>\n",
       "    <tr>\n",
       "      <th>50</th>\n",
       "      <td>US</td>\n",
       "      <td>United States</td>\n",
       "      <td>Baker Island</td>\n",
       "      <td>51</td>\n",
       "      <td>UM</td>\n",
       "      <td>{'rings': [[[-19643596.1998487, 23965.15024489...</td>\n",
       "    </tr>\n",
       "    <tr>\n",
       "      <th>61</th>\n",
       "      <td>CA</td>\n",
       "      <td>Canada</td>\n",
       "      <td>Canada</td>\n",
       "      <td>62</td>\n",
       "      <td>CA</td>\n",
       "      <td>{'rings': [[[-9688723.27200228, 9735729.723165...</td>\n",
       "    </tr>\n",
       "  </tbody>\n",
       "</table>\n",
       "</div>"
      ],
      "text/plain": [
       "   AFF_ISO     COUNTRYAFF         Country  FID ISO  \\\n",
       "16      US  United States  American Samoa   17  AS   \n",
       "24      US  United States   Jarvis Island   25  UM   \n",
       "45      US  United States   United States   46  US   \n",
       "50      US  United States    Baker Island   51  UM   \n",
       "61      CA         Canada          Canada   62  CA   \n",
       "\n",
       "                                                SHAPE  \n",
       "16  {'rings': [[[-19007124.004548, -1617338.540375...  \n",
       "24  {'rings': [[[-17813472.3754007, -44311.6306269...  \n",
       "45  {'rings': [[[-8504253.49161663, 4754669.580065...  \n",
       "50  {'rings': [[[-19643596.1998487, 23965.15024489...  \n",
       "61  {'rings': [[[-9688723.27200228, 9735729.723165...  "
      ]
     },
     "execution_count": 31,
     "metadata": {},
     "output_type": "execute_result"
    }
   ],
   "source": [
    "q = (sdf_states['AFF_ISO'] == 'CA') | (sdf_states['AFF_ISO'] == 'US')\n",
    "sdf_states[q][:5]"
   ]
  },
  {
   "cell_type": "markdown",
   "metadata": {
    "nbpresent": {
     "id": "8f8562fd-5dcf-49fb-9582-801cfa066cb5"
    },
    "slideshow": {
     "slide_type": "subslide"
    }
   },
   "source": [
    "### Exporting Data\n",
    "<hr/>\n",
    "* Data can be saving in various formats (shp, fgdb, egdb featureclasses)\n"
   ]
  },
  {
   "cell_type": "code",
   "execution_count": 32,
   "metadata": {
    "collapsed": true,
    "nbpresent": {
     "id": "75266c31-1146-46f2-b99a-1a1c7d32c4b7"
    },
    "slideshow": {
     "slide_type": "fragment"
    }
   },
   "outputs": [],
   "source": [
    "from arcgis.data.geodataset.io import to_featureclass\n",
    "import uuid"
   ]
  },
  {
   "cell_type": "code",
   "execution_count": 33,
   "metadata": {
    "nbpresent": {
     "id": "23404c3b-d5d9-46d6-a217-6b7ac48a01ea"
    },
    "slideshow": {
     "slide_type": "fragment"
    }
   },
   "outputs": [
    {
     "name": "stdout",
     "output_type": "stream",
     "text": [
      "C:\\Maps\\scratch.gdb\\a4b9b2f5781204d489529f60da415baf8\n"
     ]
    }
   ],
   "source": [
    "out_states = to_featureclass(\n",
    "    out_location=r\"C:\\Maps\\scratch.gdb\",\n",
    "    out_name=\"a%s\" % uuid.uuid4().hex,\n",
    "    df=sdf_states[q]) # q is Canada and US     \n",
    "print (out_states)"
   ]
  },
  {
   "cell_type": "code",
   "execution_count": null,
   "metadata": {
    "collapsed": true,
    "nbpresent": {
     "id": "e6dafa24-0295-4886-9a40-09302122ec80"
    },
    "slideshow": {
     "slide_type": "skip"
    }
   },
   "outputs": [],
   "source": [
    "from IPython.display import display  #Ask ANDREW HOW TO ADD\n",
    "map2 = gis.map(None, zoomlevel = 1)\n",
    "map2.add_layer(out_states)\n",
    "map2"
   ]
  },
  {
   "cell_type": "markdown",
   "metadata": {
    "nbpresent": {
     "id": "7ef0d408-1e46-4443-a042-a61e3b9963e8"
    },
    "slideshow": {
     "slide_type": "skip"
    }
   },
   "source": [
    "##### Creating an Index"
   ]
  },
  {
   "cell_type": "code",
   "execution_count": null,
   "metadata": {
    "collapsed": true,
    "nbpresent": {
     "id": "bcf2095a-8378-42cb-b9c0-7d282c108732"
    },
    "slideshow": {
     "slide_type": "skip"
    }
   },
   "outputs": [],
   "source": [
    "index = sdf_states.sindex"
   ]
  },
  {
   "cell_type": "markdown",
   "metadata": {
    "nbpresent": {
     "id": "bdfcbaea-f048-49f3-8aad-4f73010cfd83"
    },
    "slideshow": {
     "slide_type": "skip"
    }
   },
   "source": [
    "##### Using a Spatial Index"
   ]
  },
  {
   "cell_type": "code",
   "execution_count": null,
   "metadata": {
    "collapsed": true,
    "nbpresent": {
     "id": "24ddfcc0-e8e8-4938-9996-35e11ca92c5f"
    },
    "slideshow": {
     "slide_type": "skip"
    }
   },
   "outputs": [],
   "source": [
    "qidx = index.intersect([-160, 19,-154,23])\n",
    "sdf_states.loc[qidx]   "
   ]
  },
  {
   "cell_type": "markdown",
   "metadata": {
    "nbpresent": {
     "id": "dbef7979-a626-4079-8dcd-8a7577920492"
    },
    "slideshow": {
     "slide_type": "slide"
    }
   },
   "source": [
    "# The Server API (Beta)\n",
    "\n",
    " - Use ArcGIS Server content\n",
    " - Manage ArcGIS Server instances directly (non-federated/federated servers)\n",
    " - Manage server backends\n"
   ]
  },
  {
   "cell_type": "code",
   "execution_count": null,
   "metadata": {
    "collapsed": true,
    "nbpresent": {
     "id": "37a27a56-aa7c-4476-9a2f-0d67579e7195"
    },
    "slideshow": {
     "slide_type": "skip"
    }
   },
   "outputs": [],
   "source": [
    "\n",
    "username = \"arcgis_python_api\"\n",
    "password = \"***************\""
   ]
  },
  {
   "cell_type": "markdown",
   "metadata": {
    "nbpresent": {
     "id": "025c6cc4-a4e1-436a-aa76-f2ad22ef61b1"
    },
    "slideshow": {
     "slide_type": "subslide"
    }
   },
   "source": [
    "### Login Basics\n",
    " - **Same feel like the GIS object**\n",
    "##### Anonymous Login"
   ]
  },
  {
   "cell_type": "code",
   "execution_count": null,
   "metadata": {
    "collapsed": true,
    "nbpresent": {
     "id": "40749799-497d-427b-818c-c6808bf2c021"
    },
    "slideshow": {
     "slide_type": "fragment"
    }
   },
   "outputs": [],
   "source": [
    "from arcgis.server import Server \n",
    "url = \"https://sampleserver6.arcgisonline.com/arcgis/rest\"\n",
    "server = Server(url=url)\n",
    "server"
   ]
  },
  {
   "cell_type": "markdown",
   "metadata": {
    "nbpresent": {
     "id": "2a68c088-b87a-4a47-89f0-e6c58266d7ff"
    },
    "slideshow": {
     "slide_type": "fragment"
    }
   },
   "source": [
    "##### Built-in Authentication"
   ]
  },
  {
   "cell_type": "code",
   "execution_count": null,
   "metadata": {
    "collapsed": true,
    "nbpresent": {
     "id": "d0a90ba8-4a0b-4721-be64-86bd9f377aa1"
    },
    "slideshow": {
     "slide_type": "fragment"
    }
   },
   "outputs": [],
   "source": [
    "#Not working.  This is a federeated site!!!!!!!!!!!!!\n",
    "site = \"https://teddym2.esri.com/arcgis\"\n",
    "server_non_fed = Server(url=site,\n",
    "                username=\"tmatinde\",\n",
    "                password=getpass())\n"
   ]
  },
  {
   "cell_type": "markdown",
   "metadata": {
    "nbpresent": {
     "id": "38d3a163-d413-40c6-a195-17133a2104b5"
    },
    "slideshow": {
     "slide_type": "fragment"
    }
   },
   "source": [
    "#### Federated Login"
   ]
  },
  {
   "cell_type": "code",
   "execution_count": null,
   "metadata": {
    "collapsed": true,
    "nbpresent": {
     "id": "a6b19f7c-5223-4ab5-b3bc-f26c12f97b8e"
    },
    "slideshow": {
     "slide_type": "fragment"
    }
   },
   "outputs": [],
   "source": [
    "#TM also not working live\n",
    "portal = GIS(url=\"http://teddym2.esri.com/arcgis/sharing/rest\", \n",
    "             username=\"tmatinde\", password=getpass())\n",
    "server = Server(url=\"https://teddym2.esri.com/arcgis\", \n",
    "                portal_connection=portal)"
   ]
  },
  {
   "cell_type": "markdown",
   "metadata": {
    "nbpresent": {
     "id": "6d88557e-bc9e-45d3-af17-1dc4e61a8cda"
    },
    "slideshow": {
     "slide_type": "subslide"
    }
   },
   "source": [
    "### Catalog View\n",
    "\n",
    " - **Catalog view where services can be used**\n",
    " - **Allows for Server exploration and discovery**"
   ]
  },
  {
   "cell_type": "code",
   "execution_count": null,
   "metadata": {
    "collapsed": true,
    "nbpresent": {
     "id": "899068db-b8e5-46bf-86b5-6db5f6ec209f"
    },
    "slideshow": {
     "slide_type": "fragment"
    }
   },
   "outputs": [],
   "source": [
    "catalog = server.catalog\n",
    "for folder in catalog.folders:\n",
    "    print (folder)\n",
    "    for service in catalog.services:\n",
    "        print(service)\n",
    "    break"
   ]
  },
  {
   "cell_type": "markdown",
   "metadata": {
    "nbpresent": {
     "id": "3cd0bf26-9833-4228-8f09-58f171b34c7d"
    },
    "slideshow": {
     "slide_type": "subslide"
    }
   },
   "source": [
    "### Administrating Server\n",
    "\n",
    " - **Manager object allow for easy control of server**\n",
    " - **Must be an administrator**\n",
    " <hr/>"
   ]
  },
  {
   "cell_type": "markdown",
   "metadata": {
    "nbpresent": {
     "id": "4ea1e1c6-fa89-4133-bd3b-fcb84e35f1fe"
    },
    "slideshow": {
     "slide_type": "fragment"
    }
   },
   "source": [
    "**Provides Access to:**\n",
    "\n",
    "  - User management\n",
    "  - System management\n",
    "  - Server logs\n",
    "  - Service management"
   ]
  },
  {
   "cell_type": "markdown",
   "metadata": {
    "nbpresent": {
     "id": "90a87385-0e25-42d2-ba5c-bd15e2f16000"
    },
    "slideshow": {
     "slide_type": "subslide"
    }
   },
   "source": [
    "##### Create a Server User"
   ]
  },
  {
   "cell_type": "code",
   "execution_count": null,
   "metadata": {
    "collapsed": true,
    "nbpresent": {
     "id": "756b8fd0-5e8a-46d6-a9b4-683d61646204"
    },
    "slideshow": {
     "slide_type": "fragment"
    }
   },
   "outputs": [],
   "source": [
    "um = server_non_fed.users\n",
    "user = um.create(username=\"temp_user\", password=\"SuperMario123\", \n",
    "                 firstname=\"Mario\", lastname=\"Brothers\",\n",
    "                 description=\"demo\",\n",
    "                 email=\"mariobros@esri.com\")"
   ]
  },
  {
   "cell_type": "markdown",
   "metadata": {
    "nbpresent": {
     "id": "516bc4b0-6214-440b-b381-0bc0742b94c8"
    },
    "slideshow": {
     "slide_type": "fragment"
    }
   },
   "source": [
    "##### Delete the User"
   ]
  },
  {
   "cell_type": "code",
   "execution_count": null,
   "metadata": {
    "collapsed": true,
    "nbpresent": {
     "id": "d578d08a-48db-491e-9911-c2c99fa798a4"
    },
    "slideshow": {
     "slide_type": "fragment"
    }
   },
   "outputs": [],
   "source": [
    "user.delete()"
   ]
  },
  {
   "cell_type": "markdown",
   "metadata": {
    "nbpresent": {
     "id": "306341c9-fe4d-4af4-b6a9-fe737c117658"
    },
    "slideshow": {
     "slide_type": "subslide"
    }
   },
   "source": [
    "##### Accesing Services\n",
    "\n",
    " - **A shortcut to remember!**"
   ]
  },
  {
   "cell_type": "markdown",
   "metadata": {
    "nbpresent": {
     "id": "d662be28-c370-4a69-aa9a-09e44044dced"
    },
    "slideshow": {
     "slide_type": "fragment"
    }
   },
   "source": [
    "##### Passing Authentication"
   ]
  },
  {
   "cell_type": "code",
   "execution_count": null,
   "metadata": {
    "collapsed": true,
    "nbpresent": {
     "id": "9759a46f-23ac-460f-8d8c-b36d0aa6638e"
    },
    "slideshow": {
     "slide_type": "fragment"
    }
   },
   "outputs": [],
   "source": [
    "from arcgis.server import Service\n",
    "service = Service(\"http://teddym2.esri.com/arcgis/rest/services/SampleWorldCities/MapServer\", \n",
    "                  server=server_non_fed)\n",
    "service"
   ]
  },
  {
   "cell_type": "markdown",
   "metadata": {
    "nbpresent": {
     "id": "8e21ebd0-07fd-47ef-8e4b-b9115e2d40a9"
    },
    "slideshow": {
     "slide_type": "fragment"
    }
   },
   "source": [
    "##### Anonymous"
   ]
  },
  {
   "cell_type": "code",
   "execution_count": null,
   "metadata": {
    "collapsed": true,
    "nbpresent": {
     "id": "b4c5b852-d2bd-4e9c-b45d-a196368786c5"
    },
    "slideshow": {
     "slide_type": "fragment"
    }
   },
   "outputs": [],
   "source": [
    "service = Service(\"http://teddym2.esri.com/arcgis/rest/services/SampleWorldCities/MapServer\")\n",
    "service"
   ]
  },
  {
   "cell_type": "markdown",
   "metadata": {
    "nbpresent": {
     "id": "328535c9-9cfb-420e-bb28-87f981fc63e8"
    },
    "slideshow": {
     "slide_type": "skip"
    }
   },
   "source": [
    "### Visualizing Server Reports"
   ]
  },
  {
   "cell_type": "code",
   "execution_count": null,
   "metadata": {
    "collapsed": true,
    "nbpresent": {
     "id": "1bfb7d52-1c5e-4ceb-b025-fb6fed9dba9b"
    },
    "slideshow": {
     "slide_type": "skip"
    }
   },
   "outputs": [],
   "source": [
    "from datetime import datetime\n",
    "import numpy as np\n",
    "import matplotlib.pyplot as plt\n",
    "import pandas as pd\n",
    "import matplotlib.ticker as ticker\n",
    "\n",
    "usage = server.usage\n",
    "for report in usage.reports:\n",
    "    if report.reportname == \"Total requests for the last 7 days\":\n",
    "        data = report.query()\n",
    "        break\n",
    "data_y = data['report']['report-data'][0][0]['data']\n",
    "data_x = [pd.to_datetime(datetime.fromtimestamp(d//1000)) \\\n",
    "          for d in data['report']['time-slices']]\n",
    "df = pd.DataFrame(list(zip(data_x, data_y)), columns=[\"date\", \"count\"])\n",
    "q = df['count'].isnull() # change NaN values to 0\n",
    "df.loc[q, 'count'] = 0\n",
    "df.index = df['date']\n",
    "df['count'] = df['count'] \n",
    "\n",
    "ax = df.plot(kind='bar', x=df['date'])\n",
    "ticklabels = ['']*len(df.index)\n",
    "ticklabels[::4] = [item.strftime('%b %d') for item in df.index[::4]]\n",
    "ax.xaxis.set_major_formatter(ticker.FixedFormatter(ticklabels))\n",
    "plt.gcf().autofmt_xdate()\n"
   ]
  },
  {
   "cell_type": "code",
   "execution_count": null,
   "metadata": {
    "collapsed": true,
    "nbpresent": {
     "id": "7357d1f4-79b7-4653-ad8e-915097cd50d9"
    },
    "slideshow": {
     "slide_type": "subslide"
    }
   },
   "outputs": [],
   "source": [
    "plt.show()"
   ]
  },
  {
   "cell_type": "markdown",
   "metadata": {
    "nbpresent": {
     "id": "e00f64c2-5123-4dae-b0dc-4e0b161ccd2f"
    },
    "slideshow": {
     "slide_type": "slide"
    }
   },
   "source": [
    "#### An easy way to move items from one portal to another using the API?  "
   ]
  },
  {
   "cell_type": "markdown",
   "metadata": {
    "slideshow": {
     "slide_type": "fragment"
    }
   },
   "source": [
    "- no  ..\n"
   ]
  },
  {
   "cell_type": "markdown",
   "metadata": {
    "slideshow": {
     "slide_type": "fragment"
    }
   },
   "source": [
    "- You would have to build this\n",
    "    - For services, export to FGDB and copy all Item’s information to JSON on disk.\n",
    "    - For everything else, if it’s JSON based save the JSON out to disk as a text file\n",
    "    - For binary objects, (word docs, etc..), save to disk, and save item’s properties to a JSON file. \n",
    "    - web maps, you’ll most likely have to re-wire the item ids \n",
    "    - To mimic sharing, recreate all groups are setup"
   ]
  },
  {
   "cell_type": "markdown",
   "metadata": {
    "nbpresent": {
     "id": "316f66da-685a-4df4-a752-eddf4eb1134d"
    },
    "slideshow": {
     "slide_type": "slide"
    }
   },
   "source": [
    "<center><h1>Questions?</h1></center>\n",
    "<center></center>"
   ]
  },
  {
   "cell_type": "code",
   "execution_count": null,
   "metadata": {
    "collapsed": true
   },
   "outputs": [],
   "source": []
  }
 ],
 "metadata": {
  "celltoolbar": "Slideshow",
  "kernelspec": {
   "display_name": "Python 3",
   "language": "python",
   "name": "python3"
  },
  "language_info": {
   "codemirror_mode": {
    "name": "ipython",
    "version": 3
   },
   "file_extension": ".py",
   "mimetype": "text/x-python",
   "name": "python",
   "nbconvert_exporter": "python",
   "pygments_lexer": "ipython3",
   "version": "3.5.2"
  },
  "nbpresent": {
   "slides": {},
   "themes": {
    "default": "ec797ece-eab8-4d00-b1a7-82fa3370e4c1",
    "theme": {}
   }
  },
  "widgets": {
   "application/vnd.jupyter.widget-state+json": {
    "state": {},
    "version_major": 1,
    "version_minor": 0
   }
  }
 },
 "nbformat": 4,
 "nbformat_minor": 2
}
