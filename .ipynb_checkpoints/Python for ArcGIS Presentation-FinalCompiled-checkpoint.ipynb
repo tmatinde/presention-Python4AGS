{
 "cells": [
  {
   "cell_type": "markdown",
   "metadata": {
    "nbpresent": {
     "id": "4ecb4c03-4d0e-44c6-8f39-97d76243280f"
    },
    "slideshow": {
     "slide_type": "slide"
    }
   },
   "source": [
    "<center><h1>Getting to Know Geosaurus, the Python API for ArcGIS</h1></center>\n",
    "<br/>\n",
    "<img src=\"staticimg/croc.jpg\" alt=\"croc\" style=\"width:100%;height:100%;\">\n",
    "<center><h4>Teddy Matinde<h4/></center>"
   ]
  },
  {
   "cell_type": "markdown",
   "metadata": {
    "nbpresent": {
     "id": "a806f414-fff6-4919-aac4-467b0b87e2cf"
    },
    "slideshow": {
     "slide_type": "slide"
    }
   },
   "source": [
    "### Why Learn Another API?\n",
    "<hr/>\n",
    " * Easy to use\n",
    " * Well designed\n",
    " * Documentation\n",
    " * Interactive coding (like this presentation)\n",
    " * **Community driven**\n"
   ]
  },
  {
   "cell_type": "markdown",
   "metadata": {
    "slideshow": {
     "slide_type": "slide"
    }
   },
   "source": [
    "### What About ArcRest\n",
    "<hr/>\n",
    "* Same team that worked on ArcRest now on Python API for ArcGIS\n",
    "* ArcRest is for version 2.x python. \n",
    "* ArcGIS pro is python 3.x, so is python for ArcGIS\n",
    "* ArcRest is unsupported while Python API for ArcGIS is supported"
   ]
  },
  {
   "cell_type": "markdown",
   "metadata": {
    "slideshow": {
     "slide_type": "slide"
    }
   },
   "source": [
    "##### Installation\n",
    "- Next version of ArcGIS Pro will include API\n",
    "- Install ArcGIS Pro\n",
    "- Add python directory and pip directory from pro to your path\n",
    "- Download geosaurus https://github.com/ArcGIS/geosaurus\n",
    "- Install geosaurus\n",
    "- pip install -e ./src\n",
    "- pip install jupyter\n",
    "- jupyter nbextension install --py --sys-prefix arcgis\n",
    "- jupyter nbextension enable --py --sys-prefix arcgis\n"
   ]
  },
  {
   "cell_type": "markdown",
   "metadata": {
    "slideshow": {
     "slide_type": "slide"
    }
   },
   "source": [
    "#### Notebook\n",
    "- Supported\n",
    "- Uses \n",
    "  - Create blogs https://gavinr.com/2016/12/22/create-pitch-charts-python/\n",
    "  - Create tutorials + display output on github https://github.com/gbrunner/Python_for_GIS_and_RS/blob/master/Week_6/Exercise%202%20-%20JSON.ipynb\n",
    "  - Create Slides, PDFS\n",
    "  - Gallery https://github.com/jupyter/jupyter/wiki/A-gallery-of-interesting-Jupyter-Notebooks"
   ]
  },
  {
   "cell_type": "markdown",
   "metadata": {
    "nbpresent": {
     "id": "379ec1fb-0b9d-4a99-9029-18955654aa6f"
    },
    "slideshow": {
     "slide_type": "slide"
    }
   },
   "source": [
    "<hr/>\n",
    "<img src=\"staticimg/api_overview.png\" alt=\"pandas\" style=\"width:100%;height:85%;\">\n",
    "<hr/>"
   ]
  },
  {
   "cell_type": "markdown",
   "metadata": {
    "nbpresent": {
     "id": "85ab4bf9-0981-4656-b1b1-955c64d96794"
    },
    "slideshow": {
     "slide_type": "slide"
    }
   },
   "source": [
    "# Login Basics \n",
    "<hr/>\n",
    "#### Supported Methods\n",
    "* Anonymous users\n",
    "* built-in users\n",
    "* LDAP\n",
    "* Integrated Windows Authentication (IWA) through NTLM or Kerberos\n",
    "* smart card users / PKI authentication using certificate and key files\n",
    "* ArcGIS Pro Login\n",
    "* Oauth\n",
    "* SAML\n",
    "<hr/>\n"
   ]
  },
  {
   "cell_type": "code",
   "execution_count": 64,
   "metadata": {
    "collapsed": true,
    "nbpresent": {
     "id": "a5e61493-879a-4541-b068-a61721c2e884"
    },
    "slideshow": {
     "slide_type": "subslide"
    }
   },
   "outputs": [],
   "source": [
    "from arcgis.gis import GIS\n",
    "from getpass import getpass\n"
   ]
  },
  {
   "cell_type": "markdown",
   "metadata": {
    "nbpresent": {
     "id": "94c8cac9-d6ca-4656-99df-31a4c4d030a7"
    },
    "slideshow": {
     "slide_type": "fragment"
    }
   },
   "source": [
    "##### Anonymous Access"
   ]
  },
  {
   "cell_type": "code",
   "execution_count": 65,
   "metadata": {
    "nbpresent": {
     "id": "9efa8715-d251-49f6-8b33-3c92d2f02cdc"
    },
    "slideshow": {
     "slide_type": "fragment"
    }
   },
   "outputs": [
    {
     "name": "stdout",
     "output_type": "stream",
     "text": [
      "Initiated GIS 1\n"
     ]
    }
   ],
   "source": [
    "gis = GIS()\n",
    "print(\"Initiated GIS 1\")"
   ]
  },
  {
   "cell_type": "markdown",
   "metadata": {
    "nbpresent": {
     "id": "6cda2d29-077a-4f37-9543-be8135b9779a"
    },
    "slideshow": {
     "slide_type": "fragment"
    }
   },
   "source": [
    "##### Built-In Login"
   ]
  },
  {
   "cell_type": "code",
   "execution_count": 66,
   "metadata": {
    "nbpresent": {
     "id": "7235bf44-4545-4873-83bb-452d58bc7a20"
    },
    "slideshow": {
     "slide_type": "fragment"
    }
   },
   "outputs": [
    {
     "name": "stdout",
     "output_type": "stream",
     "text": [
      "········\n"
     ]
    }
   ],
   "source": [
    "password = getpass()\n",
    "gis = GIS(username=\"tmatindeps\", password=password)"
   ]
  },
  {
   "cell_type": "markdown",
   "metadata": {
    "nbpresent": {
     "id": "763631a0-12c7-432a-992a-ed6fece81416"
    },
    "slideshow": {
     "slide_type": "slide"
    }
   },
   "source": [
    "# Working with Content\n",
    "\n",
    "* Add/Remove/Delete items\n",
    "* Update properties\n",
    "* Share items\n",
    "\n",
    "<hr/>"
   ]
  },
  {
   "cell_type": "markdown",
   "metadata": {
    "nbpresent": {
     "id": "a387281f-7ded-4b1c-97b7-f690dba45000"
    },
    "slideshow": {
     "slide_type": "subslide"
    }
   },
   "source": [
    "### Searching Content"
   ]
  },
  {
   "cell_type": "code",
   "execution_count": 67,
   "metadata": {
    "nbpresent": {
     "id": "8167d4e9-3d04-4123-b5f3-8aefd1b43709"
    },
    "slideshow": {
     "slide_type": "fragment"
    }
   },
   "outputs": [
    {
     "name": "stdout",
     "output_type": "stream",
     "text": [
      "Content length =  59\n"
     ]
    },
    {
     "data": {
      "text/plain": [
       "[<Item title:\"Beverly Hills Permit\" type:Web Map owner:tmatindeps>,\n",
       " <Item title:\"Banner Request 2\" type:Web Map owner:tmatindeps>,\n",
       " <Item title:\"BannerRequestAdmin\" type:Web Map owner:tmatindeps>,\n",
       " <Item title:\"Banner Request 2\" type:Web Mapping Application owner:tmatindeps>,\n",
       " <Item title:\"BannerRequestAdmin\" type:Web Mapping Application owner:tmatindeps>,\n",
       " <Item title:\"Banner_Requests_User\" type:Web Mapping Application owner:tmatindeps>,\n",
       " <Item title:\"Banner_Requests_User\" type:Web Map owner:tmatindeps>,\n",
       " <Item title:\"Banner Pole Requests Admin\" type:Web Mapping Application owner:tmatindeps>,\n",
       " <Item title:\"Banner Request\" type:Web Map owner:tmatindeps>,\n",
       " <Item title:\"Funny Town Names in Canada\" type:Web Map owner:tmatindeps>]"
      ]
     },
     "execution_count": 67,
     "metadata": {},
     "output_type": "execute_result"
    }
   ],
   "source": [
    "content = gis.content.search(\"owner: tmatindeps\", max_items=200)\n",
    "print( \"Content length =  \" + str(len(content)))\n",
    "content[:10]"
   ]
  },
  {
   "cell_type": "code",
   "execution_count": 68,
   "metadata": {
    "nbpresent": {
     "id": "f3b826e0-30b2-4ea5-b0ca-9c6108b851c4"
    },
    "slideshow": {
     "slide_type": "subslide"
    }
   },
   "outputs": [
    {
     "data": {
      "text/plain": [
       "59"
      ]
     },
     "execution_count": 68,
     "metadata": {},
     "output_type": "execute_result"
    }
   ],
   "source": [
    "me = gis.users.me\n",
    "items = me.items()\n",
    "len(items)"
   ]
  },
  {
   "cell_type": "markdown",
   "metadata": {
    "nbpresent": {
     "id": "c2bccc38-c5ca-4078-9261-4d74586d78f9"
    },
    "slideshow": {
     "slide_type": "fragment"
    }
   },
   "source": [
    "##### Add an item\n",
    "<hr/>"
   ]
  },
  {
   "cell_type": "code",
   "execution_count": 69,
   "metadata": {
    "collapsed": true,
    "nbpresent": {
     "id": "3915455f-60f5-44c0-987b-2c7feffbe483"
    },
    "slideshow": {
     "slide_type": "fragment"
    }
   },
   "outputs": [],
   "source": [
    "# TM Remember to change number\n",
    "properties = {\"type\" : \"Shapefile\", \n",
    "              \"title\" : \"US States Strange Laws 2\",\n",
    "              \"tags \" : \"US States\",\n",
    "              \"description\" : \"US States Strange and Funny laws\"\n",
    "            }\n",
    "data_path = r\"C:\\maps\\statesStrangeLaws2.zip\"\n",
    "item = gis.content.add(data=data_path, item_properties=properties)"
   ]
  },
  {
   "cell_type": "code",
   "execution_count": 70,
   "metadata": {
    "nbpresent": {
     "id": "8c67e955-f5f7-4698-a329-19de987068bd"
    },
    "slideshow": {
     "slide_type": "fragment"
    }
   },
   "outputs": [
    {
     "data": {
      "text/html": [
       "<div class=\"item_container\" style=\"height: auto; overflow: hidden; border: 1px solid #cfcfcf; border-radius: 2px; background: #f6fafa; line-height: 1.21429em; padding: 10px;\">\n",
       "                    <div class=\"item_left\" style=\"width: 210px; float: left;\">\n",
       "                       <a href='http://prof-services.maps.arcgis.com/home/item.html?id=2837d8aacf6e4effa69cec66d6d3cb7b' target='_blank'>\n",
       "                        <img src='http://static.arcgis.com/images/desktopapp.png' class=\"itemThumbnail\">\n",
       "                       </a>\n",
       "                    </div>\n",
       "\n",
       "                    <div class=\"item_right\"     style=\"float: none; width: auto; overflow: hidden;\">\n",
       "                        <a href='http://prof-services.maps.arcgis.com/home/item.html?id=2837d8aacf6e4effa69cec66d6d3cb7b' target='_blank'><b>US States Strange Laws 2</b>\n",
       "                        </a>\n",
       "                        <br/><img src='http://prof-services.maps.arcgis.com/home/js/jsapi/esri/css/images/item_type_icons/datafiles16.png' style=\"vertical-align:middle;\">Shapefile by tmatindeps\n",
       "                        <br/>Last Modified: May 30, 2017\n",
       "                        <br/>0 comments, 0 views\n",
       "                    </div>\n",
       "                </div>\n",
       "                "
      ],
      "text/plain": [
       "<Item title:\"US States Strange Laws 2\" type:Shapefile owner:tmatindeps>"
      ]
     },
     "execution_count": 70,
     "metadata": {},
     "output_type": "execute_result"
    }
   ],
   "source": [
    "item"
   ]
  },
  {
   "cell_type": "markdown",
   "metadata": {
    "nbpresent": {
     "id": "84f33de3-ee71-446c-bcb3-27109ffd8294"
    },
    "slideshow": {
     "slide_type": "subslide"
    }
   },
   "source": [
    "##### Publish the Item\n",
    "<hr/>"
   ]
  },
  {
   "cell_type": "code",
   "execution_count": 71,
   "metadata": {
    "collapsed": true,
    "nbpresent": {
     "id": "676c9904-a250-452a-830b-6013f9fe1c89"
    },
    "slideshow": {
     "slide_type": "fragment"
    }
   },
   "outputs": [],
   "source": [
    "res = item.publish()"
   ]
  },
  {
   "cell_type": "code",
   "execution_count": 72,
   "metadata": {
    "nbpresent": {
     "id": "5ff3de9c-ba3e-4a12-b968-e15a16ac72d3"
    },
    "slideshow": {
     "slide_type": "fragment"
    }
   },
   "outputs": [
    {
     "data": {
      "text/html": [
       "<div class=\"item_container\" style=\"height: auto; overflow: hidden; border: 1px solid #cfcfcf; border-radius: 2px; background: #f6fafa; line-height: 1.21429em; padding: 10px;\">\n",
       "                    <div class=\"item_left\" style=\"width: 210px; float: left;\">\n",
       "                       <a href='http://prof-services.maps.arcgis.com/home/item.html?id=1c68f86cbacc4f86960a24d34fca44cd' target='_blank'>\n",
       "                        <img src='http://static.arcgis.com/images/desktopapp.png' class=\"itemThumbnail\">\n",
       "                       </a>\n",
       "                    </div>\n",
       "\n",
       "                    <div class=\"item_right\"     style=\"float: none; width: auto; overflow: hidden;\">\n",
       "                        <a href='http://prof-services.maps.arcgis.com/home/item.html?id=1c68f86cbacc4f86960a24d34fca44cd' target='_blank'><b>US States Strange Laws 2</b>\n",
       "                        </a>\n",
       "                        <br/><img src='http://prof-services.maps.arcgis.com/home/js/jsapi/esri/css/images/item_type_icons/featureshosted16.png' style=\"vertical-align:middle;\">Feature Layer Collection by tmatindeps\n",
       "                        <br/>Last Modified: May 30, 2017\n",
       "                        <br/>0 comments, 0 views\n",
       "                    </div>\n",
       "                </div>\n",
       "                "
      ],
      "text/plain": [
       "<Item title:\"US States Strange Laws 2\" type:Feature Service owner:tmatindeps>"
      ]
     },
     "execution_count": 72,
     "metadata": {},
     "output_type": "execute_result"
    }
   ],
   "source": [
    "res"
   ]
  },
  {
   "cell_type": "markdown",
   "metadata": {
    "nbpresent": {
     "id": "07da47a3-048f-42ef-a65c-b1812b58c6ab"
    },
    "slideshow": {
     "slide_type": "subslide"
    }
   },
   "source": [
    "#### Using Content"
   ]
  },
  {
   "cell_type": "code",
   "execution_count": 73,
   "metadata": {
    "nbpresent": {
     "id": "e9dc0d08-d337-4415-8191-0a77144d1b97"
    },
    "slideshow": {
     "slide_type": "fragment"
    }
   },
   "outputs": [
    {
     "data": {
      "application/vnd.jupyter.widget-view+json": {
       "model_id": "a3f85a2e7af84a378b0dc4bb74c2d233"
      }
     },
     "metadata": {},
     "output_type": "display_data"
    }
   ],
   "source": [
    "from IPython.display import display\n",
    "map = gis.map(\"US\", zoomlevel = 5)\n",
    "map"
   ]
  },
  {
   "cell_type": "code",
   "execution_count": 74,
   "metadata": {
    "collapsed": true,
    "nbpresent": {
     "id": "259f43bf-6c6b-49d8-a305-b83636129628"
    },
    "slideshow": {
     "slide_type": "fragment"
    }
   },
   "outputs": [],
   "source": [
    "states = gis.content.search(\"title:US States Strange Laws\", \n",
    "                                item_type=\"feature service\", \n",
    "                                outside_org=False)[0]\n",
    "map.add_layer(states)"
   ]
  },
  {
   "cell_type": "markdown",
   "metadata": {
    "nbpresent": {
     "id": "e504f614-9a27-4fe3-bdce-b0b3ed4143bf"
    },
    "slideshow": {
     "slide_type": "subslide"
    }
   },
   "source": [
    "#### Delete the item"
   ]
  },
  {
   "cell_type": "code",
   "execution_count": 75,
   "metadata": {
    "nbpresent": {
     "id": "ee3945d2-0aa3-4bbc-8ee4-6c0a4802f3b3"
    },
    "slideshow": {
     "slide_type": "fragment"
    }
   },
   "outputs": [
    {
     "name": "stdout",
     "output_type": "stream",
     "text": [
      "61\n",
      "True\n",
      "True\n",
      "59\n"
     ]
    }
   ],
   "source": [
    "print(len(me.items()))\n",
    "print(res.delete()) # published item\n",
    "print(item.delete()) # feature collection\n",
    "print(len(me.items()))"
   ]
  },
  {
   "cell_type": "markdown",
   "metadata": {
    "nbpresent": {
     "id": "0714f0c7-3922-40e5-9a7a-e7abe8641390"
    },
    "slideshow": {
     "slide_type": "slide"
    }
   },
   "source": [
    "# Working with Users\n",
    "\n",
    "* Create/update/delete users\n",
    "* Modify access\n",
    "* Assign groups\n",
    "<hr/>"
   ]
  },
  {
   "cell_type": "markdown",
   "metadata": {
    "nbpresent": {
     "id": "9d4a3e94-b6c5-463c-8568-7f7cafead4d4"
    },
    "slideshow": {
     "slide_type": "subslide"
    }
   },
   "source": [
    "#### Querying for users"
   ]
  },
  {
   "cell_type": "code",
   "execution_count": 76,
   "metadata": {
    "nbpresent": {
     "id": "462f4e44-a6e5-4eb9-96c7-9e1d3fb1de91"
    },
    "slideshow": {
     "slide_type": "fragment"
    }
   },
   "outputs": [
    {
     "data": {
      "text/plain": [
       "[<User username:acannon_ps>,\n",
       " <User username:aderosier_prof_services>,\n",
       " <User username:ahoupt_prof_services>,\n",
       " <User username:ajain_ps>,\n",
       " <User username:ajuarez_prof_services>,\n",
       " <User username:alaughton_ps>,\n",
       " <User username:alison.moore_PS>,\n",
       " <User username:amason_prof_services>,\n",
       " <User username:andypotts>,\n",
       " <User username:aschulte_prof_services>]"
      ]
     },
     "execution_count": 76,
     "metadata": {},
     "output_type": "execute_result"
    }
   ],
   "source": [
    "gis.users.search()[:10]   "
   ]
  },
  {
   "cell_type": "markdown",
   "metadata": {
    "nbpresent": {
     "id": "dbacda9c-31e1-4c79-a983-72028f935605"
    },
    "slideshow": {
     "slide_type": "subslide"
    }
   },
   "source": [
    "#### Query with wildcards"
   ]
  },
  {
   "cell_type": "code",
   "execution_count": 78,
   "metadata": {
    "nbpresent": {
     "id": "905e7092-67df-4547-be8d-52515cc7ad7e"
    },
    "slideshow": {
     "slide_type": "fragment"
    }
   },
   "outputs": [
    {
     "data": {
      "text/plain": [
       "[<User username:dt80644>, <User username:tmatindeps>]"
      ]
     },
     "execution_count": 78,
     "metadata": {},
     "output_type": "execute_result"
    }
   ],
   "source": [
    "gis.users.search(\"Ted*\")"
   ]
  },
  {
   "cell_type": "markdown",
   "metadata": {
    "nbpresent": {
     "id": "e9f28671-70d8-4b40-ba28-e8ec5f3a778a"
    },
    "slideshow": {
     "slide_type": "subslide"
    }
   },
   "source": [
    "#### Creating Users"
   ]
  },
  {
   "cell_type": "code",
   "execution_count": 86,
   "metadata": {
    "nbpresent": {
     "id": "b1548458-6334-4f71-9e55-ccb429240ac6"
    },
    "slideshow": {
     "slide_type": "fragment"
    }
   },
   "outputs": [
    {
     "name": "stdout",
     "output_type": "stream",
     "text": [
      "········\n"
     ]
    },
    {
     "data": {
      "text/html": [
       "<div class=\"9item_container\" style=\"height: auto; overflow: hidden; border: 1px solid #cfcfcf; border-radius: 2px; background: #f6fafa; line-height: 1.21429em; padding: 10px;\">\n",
       "                    <div class=\"item_left\" style=\"width: 210px; float: left;\">\n",
       "                       <a href='https://teddym2.esri.com/arcgis/home/user.html?user=sheldonBergson2' target='_blank'>\n",
       "                        <img src='https://teddym2.esri.com/arcgis/home/js/arcgisonline/css/images/no-user-thumb.jpg' class=\"itemThumbnail\">\n",
       "                       </a>\n",
       "                    </div>\n",
       "\n",
       "                    <div class=\"item_right\" style=\"float: none; width: auto; overflow: hidden;\">\n",
       "                        <a href='https://teddym2.esri.com/arcgis/home/user.html?user=sheldonBergson2' target='_blank'><b>Sheldon Bergson</b>\n",
       "                        </a>\n",
       "                        <br/><br/><b>Bio</b>: GIS user account\n",
       "                        <br/><b>First Name</b>: Sheldon\n",
       "                        <br/><b>Last Name</b>: Bergson\n",
       "                        <br/><b>Username</b>: sheldonBergson2\n",
       "                        <br/><b>Joined</b>: May 30, 2017\n",
       "\n",
       "                    </div>\n",
       "                </div>\n",
       "                "
      ],
      "text/plain": [
       "<User username:sheldonBergson2>"
      ]
     },
     "execution_count": 86,
     "metadata": {},
     "output_type": "execute_result"
    }
   ],
   "source": [
    "import ssl\n",
    "ssl._create_default_https_context = ssl._create_unverified_context # only for outlaws\n",
    "gis = GIS(url=\"https://teddym2.esri.com/arcgis\", username=\"tmatinde\", \n",
    "          password=getpass())\n",
    "strUsername = \"sheldonBergson2\" #TM remember to change suffix\n",
    "strPassword = \"password1234\"\n",
    "new_user = users.create(firstname=\"Sheldon\", lastname=\"Bergson\",role=\"org_user\",\n",
    "             username=strUsername,\n",
    "             password=strPassword,\n",
    "             description=\"GIS user account\",\n",
    "             email=\"tmatinde@esri.com\"\n",
    "             )\n",
    "new_user"
   ]
  },
  {
   "cell_type": "code",
   "execution_count": 87,
   "metadata": {
    "nbpresent": {
     "id": "4426ec17-7899-43d6-bca2-a3f24d0e0780"
    },
    "slideshow": {
     "slide_type": "slide"
    }
   },
   "outputs": [
    {
     "data": {
      "text/html": [
       "<div class=\"9item_container\" style=\"height: auto; overflow: hidden; border: 1px solid #cfcfcf; border-radius: 2px; background: #f6fafa; line-height: 1.21429em; padding: 10px;\">\n",
       "                    <div class=\"item_left\" style=\"width: 210px; float: left;\">\n",
       "                       <a href='https://teddym2.esri.com/arcgis/home/user.html?user=sheldonBergson2' target='_blank'>\n",
       "                        <img src='data:image/png;base64,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' width='200' height='133' class=\"itemThumbnail\">\n",
       "                       </a>\n",
       "                    </div>\n",
       "\n",
       "                    <div class=\"item_right\" style=\"float: none; width: auto; overflow: hidden;\">\n",
       "                        <a href='https://teddym2.esri.com/arcgis/home/user.html?user=sheldonBergson2' target='_blank'><b>Sheldon Bergson</b>\n",
       "                        </a>\n",
       "                        <br/><br/><b>Bio</b>: GIS user account\n",
       "                        <br/><b>First Name</b>: Sheldon\n",
       "                        <br/><b>Last Name</b>: Bergson\n",
       "                        <br/><b>Username</b>: sheldonBergson2\n",
       "                        <br/><b>Joined</b>: May 30, 2017\n",
       "\n",
       "                    </div>\n",
       "                </div>\n",
       "                "
      ],
      "text/plain": [
       "<User username:sheldonBergson2>"
      ]
     },
     "execution_count": 87,
     "metadata": {},
     "output_type": "execute_result"
    }
   ],
   "source": [
    "new_user.update(thumbnail=r\"c:\\Maps\\profileImage.jpg\")\n",
    "new_user"
   ]
  },
  {
   "cell_type": "code",
   "execution_count": 82,
   "metadata": {
    "nbpresent": {
     "id": "42c7dddb-d44b-41f3-b36d-437cc00f255a"
    },
    "slideshow": {
     "slide_type": "skip"
    }
   },
   "outputs": [
    {
     "data": {
      "text/plain": [
       "True"
      ]
     },
     "execution_count": 82,
     "metadata": {},
     "output_type": "execute_result"
    }
   ],
   "source": [
    "#new_user.delete()"
   ]
  },
  {
   "cell_type": "markdown",
   "metadata": {
    "nbpresent": {
     "id": "6b3a89d1-5d32-4f18-9eae-cfd97a2a663c"
    },
    "slideshow": {
     "slide_type": "subslide"
    }
   },
   "source": [
    "#### Updating Users"
   ]
  },
  {
   "cell_type": "code",
   "execution_count": 88,
   "metadata": {
    "nbpresent": {
     "id": "2f2b3a41-3407-48b3-8844-ed704bf192a8"
    },
    "slideshow": {
     "slide_type": "fragment"
    }
   },
   "outputs": [
    {
     "data": {
      "text/html": [
       "<div class=\"9item_container\" style=\"height: auto; overflow: hidden; border: 1px solid #cfcfcf; border-radius: 2px; background: #f6fafa; line-height: 1.21429em; padding: 10px;\">\n",
       "                    <div class=\"item_left\" style=\"width: 210px; float: left;\">\n",
       "                       <a href='https://teddym2.esri.com/arcgis/home/user.html?user=sheldonBergson2' target='_blank'>\n",
       "                        <img src='data:image/png;base64,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' width='200' height='133' class=\"itemThumbnail\">\n",
       "                       </a>\n",
       "                    </div>\n",
       "\n",
       "                    <div class=\"item_right\" style=\"float: none; width: auto; overflow: hidden;\">\n",
       "                        <a href='https://teddym2.esri.com/arcgis/home/user.html?user=sheldonBergson2' target='_blank'><b>Sheldon Bergson</b>\n",
       "                        </a>\n",
       "                        <br/><br/><b>Bio</b>: GIS user account\n",
       "                        <br/><b>First Name</b>: Sheldon\n",
       "                        <br/><b>Last Name</b>: Bergson\n",
       "                        <br/><b>Username</b>: sheldonBergson2\n",
       "                        <br/><b>Joined</b>: May 30, 2017\n",
       "\n",
       "                    </div>\n",
       "                </div>\n",
       "                "
      ],
      "text/plain": [
       "<User username:sheldonBergson2>"
      ]
     },
     "execution_count": 88,
     "metadata": {},
     "output_type": "execute_result"
    }
   ],
   "source": [
    "gis = GIS(url=\"https://teddym2.esri.com/arcgis\", username=strUsername, \n",
    "          password=strPassword)\n",
    "me = gis.users.me\n",
    "me"
   ]
  },
  {
   "cell_type": "code",
   "execution_count": 89,
   "metadata": {
    "nbpresent": {
     "id": "135fec8e-8797-4dfc-891b-a30cb1b143d3"
    },
    "slideshow": {
     "slide_type": "fragment"
    }
   },
   "outputs": [
    {
     "data": {
      "text/plain": [
       "True"
      ]
     },
     "execution_count": 89,
     "metadata": {},
     "output_type": "execute_result"
    }
   ],
   "source": [
    "me.update(fullname=\"Znoneofthe Above\")"
   ]
  },
  {
   "cell_type": "code",
   "execution_count": 90,
   "metadata": {
    "nbpresent": {
     "id": "19c9d8c3-6b22-4949-8cae-b9f4ffd69364"
    },
    "slideshow": {
     "slide_type": "fragment"
    }
   },
   "outputs": [
    {
     "data": {
      "text/html": [
       "<div class=\"9item_container\" style=\"height: auto; overflow: hidden; border: 1px solid #cfcfcf; border-radius: 2px; background: #f6fafa; line-height: 1.21429em; padding: 10px;\">\n",
       "                    <div class=\"item_left\" style=\"width: 210px; float: left;\">\n",
       "                       <a href='https://teddym2.esri.com/arcgis/home/user.html?user=sheldonBergson2' target='_blank'>\n",
       "                        <img src='data:image/png;base64,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' width='200' height='133' class=\"itemThumbnail\">\n",
       "                       </a>\n",
       "                    </div>\n",
       "\n",
       "                    <div class=\"item_right\" style=\"float: none; width: auto; overflow: hidden;\">\n",
       "                        <a href='https://teddym2.esri.com/arcgis/home/user.html?user=sheldonBergson2' target='_blank'><b>Znoneofthe Above</b>\n",
       "                        </a>\n",
       "                        <br/><br/><b>Bio</b>: GIS user account\n",
       "                        <br/><b>First Name</b>: Sheldon\n",
       "                        <br/><b>Last Name</b>: Bergson\n",
       "                        <br/><b>Username</b>: sheldonBergson2\n",
       "                        <br/><b>Joined</b>: May 30, 2017\n",
       "\n",
       "                    </div>\n",
       "                </div>\n",
       "                "
      ],
      "text/plain": [
       "<User username:sheldonBergson2>"
      ]
     },
     "execution_count": 90,
     "metadata": {},
     "output_type": "execute_result"
    }
   ],
   "source": [
    "me"
   ]
  },
  {
   "cell_type": "markdown",
   "metadata": {
    "nbpresent": {
     "id": "e8aaa41b-334a-4bb9-9110-cae97a1ac137"
    },
    "slideshow": {
     "slide_type": "slide"
    }
   },
   "source": [
    "## Working with Groups"
   ]
  },
  {
   "cell_type": "code",
   "execution_count": 91,
   "metadata": {
    "nbpresent": {
     "id": "74c365b7-2536-4bd9-a8bd-5d853095a5e4"
    },
    "slideshow": {
     "slide_type": "fragment"
    }
   },
   "outputs": [
    {
     "name": "stdout",
     "output_type": "stream",
     "text": [
      "········\n"
     ]
    },
    {
     "data": {
      "text/plain": [
       "[<Group title:\"Geographers\" owner:tmatinde>]"
      ]
     },
     "execution_count": 91,
     "metadata": {},
     "output_type": "execute_result"
    }
   ],
   "source": [
    "gis = GIS(url=\"https://teddym2.esri.com/arcgis\",\n",
    "          username=\"tmatinde\", password=getpass())\n",
    "groups = gis.groups.search(query=\"title: geog*\")\n",
    "groups"
   ]
  },
  {
   "cell_type": "markdown",
   "metadata": {
    "nbpresent": {
     "id": "94bbedab-4396-453e-aa4a-6f4726b6838b"
    },
    "slideshow": {
     "slide_type": "subslide"
    }
   },
   "source": [
    "##### Creating a Group"
   ]
  },
  {
   "cell_type": "code",
   "execution_count": 92,
   "metadata": {
    "nbpresent": {
     "id": "cd5ad292-fd0b-4de6-87ad-b68d07766ee2"
    },
    "slideshow": {
     "slide_type": "fragment"
    }
   },
   "outputs": [
    {
     "data": {
      "text/html": [
       "<div class=\"9item_container\" style=\"height: auto; overflow: hidden; border: 1px solid #cfcfcf; border-radius: 2px; background: #f6fafa; line-height: 1.21429em; padding: 10px;\">\n",
       "                    <div class=\"item_left\" style=\"width: 210px; float: left;\">\n",
       "                       <a href='https://teddym2.esri.com/arcgis/home/group.html?id=d88ccdc39acb4836912d1c9ffd7f113e' target='_blank'>\n",
       "                        <img src='data:image/png;base64,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' ' class=\"itemThumbnail\">\n",
       "                       </a>\n",
       "                    </div>\n",
       "\n",
       "                    <div class=\"item_right\" style=\"float: none; width: auto; overflow: hidden;\">\n",
       "                        <a href='https://teddym2.esri.com/arcgis/home/group.html?id=d88ccdc39acb4836912d1c9ffd7f113e' target='_blank'><b>GeoDesign Group</b>\n",
       "                        </a>\n",
       "                        <br/>\n",
       "                        <br/><b>Summary</b>: A group to share data related geodesign\n",
       "                        <br/><b>Description</b>: Analysis, visualization, modeling of Web GIS data\n",
       "                        <br/><b>Owner</b>: tmatinde\n",
       "                        <br/><b>Created</b>: May 30, 2017\n",
       "\n",
       "                    </div>\n",
       "                </div>\n",
       "                "
      ],
      "text/plain": [
       "<Group title:\"GeoDesign Group\" owner:tmatinde>"
      ]
     },
     "execution_count": 92,
     "metadata": {},
     "output_type": "execute_result"
    }
   ],
   "source": [
    "group_summary = 'A group to share data related geodesign'\n",
    "group_description = 'Analysis, visualization, modeling of Web GIS data'\n",
    "\n",
    "data_group = gis.groups.create(title='GeoDesign Group', tags='data, big data, design', \n",
    "                      description=group_description,\n",
    "                      snippet=group_summary,\n",
    "                     thumbnail=r\"c:\\Maps\\geodesign.jpg\")\n",
    "data_group"
   ]
  },
  {
   "cell_type": "markdown",
   "metadata": {
    "nbpresent": {
     "id": "1313c3d4-8527-435e-96b5-4d24bc950dab"
    },
    "slideshow": {
     "slide_type": "fragment"
    }
   },
   "source": [
    "#### Add a User to a Group"
   ]
  },
  {
   "cell_type": "code",
   "execution_count": 93,
   "metadata": {
    "nbpresent": {
     "id": "021c72fc-7c8f-4bc1-bf25-c90be8af15e0"
    },
    "slideshow": {
     "slide_type": "fragment"
    }
   },
   "outputs": [
    {
     "data": {
      "text/plain": [
       "{'notAdded': []}"
      ]
     },
     "execution_count": 93,
     "metadata": {},
     "output_type": "execute_result"
    }
   ],
   "source": [
    "data_group.add_users(usernames=[strUsername])"
   ]
  },
  {
   "cell_type": "markdown",
   "metadata": {
    "nbpresent": {
     "id": "e5816488-2296-46a5-9397-29d897f4a581"
    },
    "slideshow": {
     "slide_type": "subslide"
    }
   },
   "source": [
    "#### Delete the Group"
   ]
  },
  {
   "cell_type": "code",
   "execution_count": 94,
   "metadata": {
    "nbpresent": {
     "id": "0eb24209-19ed-42a8-b32c-2ac545cc2ddd"
    },
    "slideshow": {
     "slide_type": "fragment"
    }
   },
   "outputs": [
    {
     "data": {
      "text/plain": [
       "True"
      ]
     },
     "execution_count": 94,
     "metadata": {},
     "output_type": "execute_result"
    }
   ],
   "source": [
    "data_group.delete()"
   ]
  },
  {
   "cell_type": "code",
   "execution_count": null,
   "metadata": {
    "collapsed": true,
    "nbpresent": {
     "id": "d996cbf7-0622-4966-a881-6b7e57876324"
    },
    "slideshow": {
     "slide_type": "skip"
    }
   },
   "outputs": [],
   "source": [
    "#me.update(fullname=\"John Doe\")"
   ]
  },
  {
   "cell_type": "markdown",
   "metadata": {
    "collapsed": true,
    "nbpresent": {
     "id": "c1173f83-454e-47cd-aa93-b7a37c2b56db"
    },
    "slideshow": {
     "slide_type": "slide"
    }
   },
   "source": [
    "# New Way to Work with Data\n",
    "<hr/>\n",
    "<img src=\"staticimg/Pandas.png\" alt=\"pandas\" style=\"width:228px;height:228px;\">\n",
    "<hr/>"
   ]
  },
  {
   "cell_type": "markdown",
   "metadata": {
    "nbpresent": {
     "id": "3808931b-10e3-4da5-ad66-dd39ac883d0f"
    },
    "slideshow": {
     "slide_type": "subslide"
    }
   },
   "source": [
    "### Pandas \n",
    "\n",
    "##### A Python package providing fast, flexible, and expressive data structures designed to make working with \"relational\" or \"labeled\" data both easy and intuitive. It aims to be the fundamental high-level building block for doing practical, real world data analysis in Python.\n",
    "\n",
    "\n",
    "(source: https://github.com/pandas-dev/pandas)"
   ]
  },
  {
   "cell_type": "markdown",
   "metadata": {
    "nbpresent": {
     "id": "e1d7cef6-3e9b-49da-80ce-b7b895168e60"
    },
    "slideshow": {
     "slide_type": "fragment"
    }
   },
   "source": [
    "### Esri's Spatail Pandas\n",
    "\n",
    " - **An extension of Pandas for spatial data**\n",
    " - **Easy to use**\n",
    " - **combines the desktop GIS with Web GIS**\n",
    " - **On the fly spatial indexing**"
   ]
  },
  {
   "cell_type": "markdown",
   "metadata": {
    "nbpresent": {
     "id": "4acbfe72-b7d2-4dc6-a20a-018baac9f4eb"
    },
    "slideshow": {
     "slide_type": "subslide"
    }
   },
   "source": [
    "## Why Spatial DataFrames?\n",
    "<img src=\"staticimg/bridge.png\" alt=\"pandas\" style=\"width:500px;height:228px;\">\n",
    "<hr/>\n",
    "* Makes data tactile\n",
    "* Brings Desktop and Web GIS together\n",
    "* Easy to use"
   ]
  },
  {
   "cell_type": "markdown",
   "metadata": {
    "nbpresent": {
     "id": "af0c7fb0-4d83-48f1-aa04-6e1597de2f93"
    },
    "slideshow": {
     "slide_type": "subslide"
    }
   },
   "source": [
    "### Example: Loading Data\n",
    "<hr/>"
   ]
  },
  {
   "cell_type": "code",
   "execution_count": 95,
   "metadata": {
    "nbpresent": {
     "id": "4d8bdf08-f162-497d-b89c-716850bf93c2"
    },
    "slideshow": {
     "slide_type": "fragment"
    }
   },
   "outputs": [
    {
     "name": "stdout",
     "output_type": "stream",
     "text": [
      "Loaded spatialdataframe\n"
     ]
    }
   ],
   "source": [
    "from arcgis import SpatialDataFrame\n",
    "from arcgis.data.geodataset.io import from_layer\n",
    "print(\"Loaded spatialdataframe\")"
   ]
  },
  {
   "cell_type": "markdown",
   "metadata": {
    "nbpresent": {
     "id": "7f59a28e-df6e-4147-b623-5030924c322f"
    },
    "slideshow": {
     "slide_type": "fragment"
    }
   },
   "source": [
    "#### Import a Feature Layer"
   ]
  },
  {
   "cell_type": "code",
   "execution_count": 96,
   "metadata": {
    "nbpresent": {
     "id": "4d52f568-6cfa-43e4-8a83-4f508b7ad564"
    },
    "slideshow": {
     "slide_type": "fragment"
    }
   },
   "outputs": [
    {
     "data": {
      "text/html": [
       "<div>\n",
       "<table border=\"1\" class=\"dataframe\">\n",
       "  <thead>\n",
       "    <tr style=\"text-align: right;\">\n",
       "      <th></th>\n",
       "      <th>AFF_ISO</th>\n",
       "      <th>COUNTRYAFF</th>\n",
       "      <th>Country</th>\n",
       "      <th>FID</th>\n",
       "      <th>ISO</th>\n",
       "      <th>SHAPE</th>\n",
       "    </tr>\n",
       "  </thead>\n",
       "  <tbody>\n",
       "    <tr>\n",
       "      <th>0</th>\n",
       "      <td>FK</td>\n",
       "      <td>United Kingdom</td>\n",
       "      <td>Falkland Islands</td>\n",
       "      <td>1</td>\n",
       "      <td>FK</td>\n",
       "      <td>{'rings': [[[-6606596.26482308, -6862393.47442...</td>\n",
       "    </tr>\n",
       "    <tr>\n",
       "      <th>1</th>\n",
       "      <td>FR</td>\n",
       "      <td>France</td>\n",
       "      <td>French Guiana</td>\n",
       "      <td>2</td>\n",
       "      <td>GF</td>\n",
       "      <td>{'rings': [[[-6078465.19716979, 259355.8059185...</td>\n",
       "    </tr>\n",
       "    <tr>\n",
       "      <th>2</th>\n",
       "      <td>GY</td>\n",
       "      <td>Guyana</td>\n",
       "      <td>Guyana</td>\n",
       "      <td>3</td>\n",
       "      <td>GY</td>\n",
       "      <td>{'rings': [[[-6475746.20510377, 760125.6448030...</td>\n",
       "    </tr>\n",
       "  </tbody>\n",
       "</table>\n",
       "</div>"
      ],
      "text/plain": [
       "  AFF_ISO      COUNTRYAFF           Country  FID ISO  \\\n",
       "0      FK  United Kingdom  Falkland Islands    1  FK   \n",
       "1      FR          France     French Guiana    2  GF   \n",
       "2      GY          Guyana            Guyana    3  GY   \n",
       "\n",
       "                                               SHAPE  \n",
       "0  {'rings': [[[-6606596.26482308, -6862393.47442...  \n",
       "1  {'rings': [[[-6078465.19716979, 259355.8059185...  \n",
       "2  {'rings': [[[-6475746.20510377, 760125.6448030...  "
      ]
     },
     "execution_count": 96,
     "metadata": {},
     "output_type": "execute_result"
    }
   ],
   "source": [
    "from arcgis.features import FeatureLayer\n",
    "url = \"http://services.arcgis.com/P3ePLMYs2RVChkJx/arcgis/rest/services/World_Countries_(Generalized)/FeatureServer/0\"\n",
    "sdf_states = from_layer(FeatureLayer(url))\n",
    "sdf_states[:3]"
   ]
  },
  {
   "cell_type": "markdown",
   "metadata": {
    "nbpresent": {
     "id": "e196ba8f-4f3a-4f96-aaa9-8a35a81c2c1c"
    },
    "slideshow": {
     "slide_type": "subslide"
    }
   },
   "source": [
    "#### How to Make Non-Spatial DataFrame Spatial\n",
    "<hr/>\n"
   ]
  },
  {
   "cell_type": "code",
   "execution_count": 97,
   "metadata": {
    "nbpresent": {
     "id": "c031c6f4-cb84-420d-91cd-aaeeb46732ac"
    },
    "slideshow": {
     "slide_type": "fragment"
    }
   },
   "outputs": [
    {
     "data": {
      "text/plain": [
       "'C:\\\\Maps\\\\scratch.gdb\\\\b793c17eb4c064a3eac30efb0dcb0ef07'"
      ]
     },
     "execution_count": 97,
     "metadata": {},
     "output_type": "execute_result"
    }
   ],
   "source": [
    "import pandas as pd\n",
    "import uuid\n",
    "import arcpy\n",
    "from arcgis import SpatialDataFrame\n",
    "from arcgis.geometry.types import Geometry\n",
    "df = pd.read_csv(filepath_or_buffer='C:/Maps/islandsGalore.csv',\n",
    "                  index_col=None)\n",
    "df[:3]\n",
    "df['SHAPE'] = None\n",
    "for idx, x,y in df[['longitude','latitude']].to_records():\n",
    "    geom = Geometry({\"x\" : x, \"y\" : y, \n",
    "                           \"spatialReference\" : {\"wkid\" : 4326}})\n",
    "    geom1 = geom.project_as(arcpy.SpatialReference(102100), None)\n",
    "    df.set_value(idx, 'SHAPE', geom1, None)\n",
    "df = SpatialDataFrame(df)\n",
    "df.geometry = df['SHAPE']\n",
    "dfIslands = df\n",
    "fcIslands = df.to_featureclass(\n",
    "    out_location=r\"C:\\maps\\scratch.gdb\",\n",
    "    out_name=\"b\" + uuid.uuid4().hex)\n",
    "fcIslands\n"
   ]
  },
  {
   "cell_type": "markdown",
   "metadata": {
    "nbpresent": {
     "id": "7624c529-f4f0-4c03-a3ed-03d5884c0e0c"
    },
    "slideshow": {
     "slide_type": "slide"
    }
   },
   "source": [
    "##### Import a Feature Class\n",
    "\n",
    "* Includes all supported feature class types arcpy supports"
   ]
  },
  {
   "cell_type": "code",
   "execution_count": 98,
   "metadata": {
    "nbpresent": {
     "id": "b147bdf7-8281-4220-abb5-30d6e3f1293a"
    },
    "slideshow": {
     "slide_type": "fragment"
    }
   },
   "outputs": [
    {
     "data": {
      "text/html": [
       "<div>\n",
       "<table border=\"1\" class=\"dataframe\">\n",
       "  <thead>\n",
       "    <tr style=\"text-align: right;\">\n",
       "      <th></th>\n",
       "      <th>OBJECTID</th>\n",
       "      <th>idx</th>\n",
       "      <th>title</th>\n",
       "      <th>Place</th>\n",
       "      <th>latitude</th>\n",
       "      <th>longitude</th>\n",
       "      <th>SHAPE</th>\n",
       "    </tr>\n",
       "  </thead>\n",
       "  <tbody>\n",
       "    <tr>\n",
       "      <th>0</th>\n",
       "      <td>1</td>\n",
       "      <td>0.0</td>\n",
       "      <td>Largest Island</td>\n",
       "      <td>Greenland</td>\n",
       "      <td>68.568726</td>\n",
       "      <td>-74.952354</td>\n",
       "      <td>{'x': -8343658.1592999995, 'spatialReference':...</td>\n",
       "    </tr>\n",
       "    <tr>\n",
       "      <th>1</th>\n",
       "      <td>2</td>\n",
       "      <td>1.0</td>\n",
       "      <td>Largest Lake</td>\n",
       "      <td>Caspain Sea</td>\n",
       "      <td>41.484158</td>\n",
       "      <td>49.323463</td>\n",
       "      <td>{'x': 5490662.974599998, 'spatialReference': {...</td>\n",
       "    </tr>\n",
       "    <tr>\n",
       "      <th>2</th>\n",
       "      <td>3</td>\n",
       "      <td>2.0</td>\n",
       "      <td>Largest lake on an island</td>\n",
       "      <td>Nettling Lake</td>\n",
       "      <td>66.500000</td>\n",
       "      <td>-73.074547</td>\n",
       "      <td>{'x': -8134621.0503, 'spatialReference': {'lat...</td>\n",
       "    </tr>\n",
       "    <tr>\n",
       "      <th>3</th>\n",
       "      <td>4</td>\n",
       "      <td>3.0</td>\n",
       "      <td>Largest island in a lake</td>\n",
       "      <td>Mantoulin Island</td>\n",
       "      <td>45.756184</td>\n",
       "      <td>-82.962418</td>\n",
       "      <td>{'x': -9235334.4718, 'spatialReference': {'lat...</td>\n",
       "    </tr>\n",
       "    <tr>\n",
       "      <th>4</th>\n",
       "      <td>5</td>\n",
       "      <td>4.0</td>\n",
       "      <td>Largest island in a lake on an island</td>\n",
       "      <td>Pulau Samosir in Danau Toba on Sumatera</td>\n",
       "      <td>2.594225</td>\n",
       "      <td>98.698013</td>\n",
       "      <td>{'x': 10987012.6497, 'spatialReference': {'lat...</td>\n",
       "    </tr>\n",
       "    <tr>\n",
       "      <th>5</th>\n",
       "      <td>6</td>\n",
       "      <td>5.0</td>\n",
       "      <td>Largest lake on an island in a lake</td>\n",
       "      <td>Lake Manitou on Manitoulin Island in Lake Huro...</td>\n",
       "      <td>45.781921</td>\n",
       "      <td>-82.130577</td>\n",
       "      <td>{'x': -9142733.7319, 'spatialReference': {'lat...</td>\n",
       "    </tr>\n",
       "    <tr>\n",
       "      <th>6</th>\n",
       "      <td>7</td>\n",
       "      <td>6.0</td>\n",
       "      <td>Largest lake on an island in a lake on an island</td>\n",
       "      <td>Crater Lake on Vulcano Island in Lake Taal on ...</td>\n",
       "      <td>13.984963</td>\n",
       "      <td>120.945793</td>\n",
       "      <td>{'x': 13463624.3909, 'spatialReference': {'lat...</td>\n",
       "    </tr>\n",
       "    <tr>\n",
       "      <th>7</th>\n",
       "      <td>8</td>\n",
       "      <td>7.0</td>\n",
       "      <td>Largest island in a lake on an island in a lake</td>\n",
       "      <td>Island in Mindemoya Lake on Manitoulin Island ...</td>\n",
       "      <td>45.756306</td>\n",
       "      <td>-82.270744</td>\n",
       "      <td>{'x': -9158337.7078, 'spatialReference': {'lat...</td>\n",
       "    </tr>\n",
       "    <tr>\n",
       "      <th>8</th>\n",
       "      <td>9</td>\n",
       "      <td>8.0</td>\n",
       "      <td>Largest island in a lake on an island in a lak...</td>\n",
       "      <td>Vulcan point in Crater Lake on Vulcano Island ...</td>\n",
       "      <td>13.984963</td>\n",
       "      <td>120.945793</td>\n",
       "      <td>{'x': 13463624.3909, 'spatialReference': {'lat...</td>\n",
       "    </tr>\n",
       "  </tbody>\n",
       "</table>\n",
       "</div>"
      ],
      "text/plain": [
       "   OBJECTID  idx                                              title  \\\n",
       "0         1  0.0                                     Largest Island   \n",
       "1         2  1.0                                       Largest Lake   \n",
       "2         3  2.0                          Largest lake on an island   \n",
       "3         4  3.0                           Largest island in a lake   \n",
       "4         5  4.0              Largest island in a lake on an island   \n",
       "5         6  5.0                Largest lake on an island in a lake   \n",
       "6         7  6.0   Largest lake on an island in a lake on an island   \n",
       "7         8  7.0    Largest island in a lake on an island in a lake   \n",
       "8         9  8.0  Largest island in a lake on an island in a lak...   \n",
       "\n",
       "                                               Place   latitude   longitude  \\\n",
       "0                                          Greenland  68.568726  -74.952354   \n",
       "1                                        Caspain Sea  41.484158   49.323463   \n",
       "2                                      Nettling Lake  66.500000  -73.074547   \n",
       "3                                   Mantoulin Island  45.756184  -82.962418   \n",
       "4            Pulau Samosir in Danau Toba on Sumatera   2.594225   98.698013   \n",
       "5  Lake Manitou on Manitoulin Island in Lake Huro...  45.781921  -82.130577   \n",
       "6  Crater Lake on Vulcano Island in Lake Taal on ...  13.984963  120.945793   \n",
       "7  Island in Mindemoya Lake on Manitoulin Island ...  45.756306  -82.270744   \n",
       "8  Vulcan point in Crater Lake on Vulcano Island ...  13.984963  120.945793   \n",
       "\n",
       "                                               SHAPE  \n",
       "0  {'x': -8343658.1592999995, 'spatialReference':...  \n",
       "1  {'x': 5490662.974599998, 'spatialReference': {...  \n",
       "2  {'x': -8134621.0503, 'spatialReference': {'lat...  \n",
       "3  {'x': -9235334.4718, 'spatialReference': {'lat...  \n",
       "4  {'x': 10987012.6497, 'spatialReference': {'lat...  \n",
       "5  {'x': -9142733.7319, 'spatialReference': {'lat...  \n",
       "6  {'x': 13463624.3909, 'spatialReference': {'lat...  \n",
       "7  {'x': -9158337.7078, 'spatialReference': {'lat...  \n",
       "8  {'x': 13463624.3909, 'spatialReference': {'lat...  "
      ]
     },
     "execution_count": 98,
     "metadata": {},
     "output_type": "execute_result"
    }
   ],
   "source": [
    "import arcpy\n",
    "sdf_islands = SpatialDataFrame.from_featureclass(fcIslands)\n",
    "sdf_islands"
   ]
  },
  {
   "cell_type": "markdown",
   "metadata": {
    "collapsed": true,
    "nbpresent": {
     "id": "d07946da-9640-4979-a951-0de1c4a0c872"
    },
    "slideshow": {
     "slide_type": "slide"
    }
   },
   "source": [
    "### Manipulating Data\n",
    "<hr/>\n",
    "* Works like a regular dataframe\n",
    "* Supports many operations: groupby, selections, aggregation \n"
   ]
  },
  {
   "cell_type": "markdown",
   "metadata": {
    "nbpresent": {
     "id": "7eeab5f9-fb7a-4c4d-ae01-012d0e2e5bde"
    },
    "slideshow": {
     "slide_type": "subslide"
    }
   },
   "source": [
    "##### Spatial Selection\n",
    "###### Using Arcpy"
   ]
  },
  {
   "cell_type": "markdown",
   "metadata": {
    "nbpresent": {
     "id": "29c90fb5-0330-46bc-b1dd-9c52bdad2381"
    },
    "slideshow": {
     "slide_type": "fragment"
    }
   },
   "source": [
    "<pre><code>import arcpy\n",
    "st_lyr = arcpy.MakeFeatureLayer_management(\n",
    "         in_features=\"states\", \n",
    "         out_layer=\"states_Layer\", \n",
    "         where_clause=\"AFF_ISO = 'CA'\")[0]\n",
    "city_lyr = arcpy.MakeFeatureLayer_management(\n",
    "           in_features=\"islandsGalore\", \n",
    "           out_layer=\"islandsGalore_Layer\")[0]\n",
    "arcpy.SelectLayerByLocation_management(\n",
    "                 in_layer=\"islandsGalore_Layer\", \n",
    "                 overlap_type=\"INTERSECT\", \n",
    "                 select_features=\"states_Layer\")\n",
    "</code></pre>"
   ]
  },
  {
   "cell_type": "markdown",
   "metadata": {
    "nbpresent": {
     "id": "9b2e4d1b-596a-4b94-ab8e-324088c7cffc"
    },
    "slideshow": {
     "slide_type": "skip"
    }
   },
   "source": [
    "##### Spatial Selection\n",
    "###### Using Spatial DataFrame"
   ]
  },
  {
   "cell_type": "markdown",
   "metadata": {
    "collapsed": true,
    "nbpresent": {
     "id": "52485347-5a05-4b90-b194-aa5fe7ab3095"
    },
    "slideshow": {
     "slide_type": "subslide"
    }
   },
   "source": [
    "### Spatial Index\n",
    "\n",
    " - **Created when you need them**\n",
    " - ** QuadTree indexing**"
   ]
  },
  {
   "cell_type": "code",
   "execution_count": 99,
   "metadata": {
    "collapsed": true,
    "nbpresent": {
     "id": "71d7c49c-bc07-4541-9b54-a725e0316ff4"
    },
    "slideshow": {
     "slide_type": "fragment"
    }
   },
   "outputs": [],
   "source": [
    "\n",
    "geom = sdf_states[sdf_states['AFF_ISO'] == 'CA']\n",
    "geomTmp = geom[['SHAPE']]\n",
    "geom = Geometry(geomTmp.values[0][0])\n",
    "s_idx = sdf_islands.sindex.intersect([geom.extent.XMin, geom.extent.YMin, \n",
    "                                     geom.extent.XMax, geom.extent.YMax])\n",
    "sub = sdf_islands.loc[s_idx] \n",
    "q = sub.geometry.disjoint(geom) == False # means intersect. returns true/false indexes\n",
    "sdf_caInterestingLakes = sub[q].copy()"
   ]
  },
  {
   "cell_type": "code",
   "execution_count": 100,
   "metadata": {
    "nbpresent": {
     "id": "944ea8ad-21df-4a69-953f-8f91d0f769e0"
    },
    "slideshow": {
     "slide_type": "fragment"
    }
   },
   "outputs": [
    {
     "data": {
      "text/html": [
       "<div>\n",
       "<table border=\"1\" class=\"dataframe\">\n",
       "  <thead>\n",
       "    <tr style=\"text-align: right;\">\n",
       "      <th></th>\n",
       "      <th>OBJECTID</th>\n",
       "      <th>idx</th>\n",
       "      <th>title</th>\n",
       "      <th>Place</th>\n",
       "      <th>latitude</th>\n",
       "      <th>longitude</th>\n",
       "      <th>SHAPE</th>\n",
       "    </tr>\n",
       "  </thead>\n",
       "  <tbody>\n",
       "    <tr>\n",
       "      <th>0</th>\n",
       "      <td>1</td>\n",
       "      <td>0.0</td>\n",
       "      <td>Largest Island</td>\n",
       "      <td>Greenland</td>\n",
       "      <td>68.568726</td>\n",
       "      <td>-74.952354</td>\n",
       "      <td>{'x': -8343658.1592999995, 'spatialReference':...</td>\n",
       "    </tr>\n",
       "    <tr>\n",
       "      <th>2</th>\n",
       "      <td>3</td>\n",
       "      <td>2.0</td>\n",
       "      <td>Largest lake on an island</td>\n",
       "      <td>Nettling Lake</td>\n",
       "      <td>66.500000</td>\n",
       "      <td>-73.074547</td>\n",
       "      <td>{'x': -8134621.0503, 'spatialReference': {'lat...</td>\n",
       "    </tr>\n",
       "    <tr>\n",
       "      <th>3</th>\n",
       "      <td>4</td>\n",
       "      <td>3.0</td>\n",
       "      <td>Largest island in a lake</td>\n",
       "      <td>Mantoulin Island</td>\n",
       "      <td>45.756184</td>\n",
       "      <td>-82.962418</td>\n",
       "      <td>{'x': -9235334.4718, 'spatialReference': {'lat...</td>\n",
       "    </tr>\n",
       "    <tr>\n",
       "      <th>5</th>\n",
       "      <td>6</td>\n",
       "      <td>5.0</td>\n",
       "      <td>Largest lake on an island in a lake</td>\n",
       "      <td>Lake Manitou on Manitoulin Island in Lake Huro...</td>\n",
       "      <td>45.781921</td>\n",
       "      <td>-82.130577</td>\n",
       "      <td>{'x': -9142733.7319, 'spatialReference': {'lat...</td>\n",
       "    </tr>\n",
       "    <tr>\n",
       "      <th>7</th>\n",
       "      <td>8</td>\n",
       "      <td>7.0</td>\n",
       "      <td>Largest island in a lake on an island in a lake</td>\n",
       "      <td>Island in Mindemoya Lake on Manitoulin Island ...</td>\n",
       "      <td>45.756306</td>\n",
       "      <td>-82.270744</td>\n",
       "      <td>{'x': -9158337.7078, 'spatialReference': {'lat...</td>\n",
       "    </tr>\n",
       "  </tbody>\n",
       "</table>\n",
       "</div>"
      ],
      "text/plain": [
       "   OBJECTID  idx                                            title  \\\n",
       "0         1  0.0                                   Largest Island   \n",
       "2         3  2.0                        Largest lake on an island   \n",
       "3         4  3.0                         Largest island in a lake   \n",
       "5         6  5.0              Largest lake on an island in a lake   \n",
       "7         8  7.0  Largest island in a lake on an island in a lake   \n",
       "\n",
       "                                               Place   latitude  longitude  \\\n",
       "0                                          Greenland  68.568726 -74.952354   \n",
       "2                                      Nettling Lake  66.500000 -73.074547   \n",
       "3                                   Mantoulin Island  45.756184 -82.962418   \n",
       "5  Lake Manitou on Manitoulin Island in Lake Huro...  45.781921 -82.130577   \n",
       "7  Island in Mindemoya Lake on Manitoulin Island ...  45.756306 -82.270744   \n",
       "\n",
       "                                               SHAPE  \n",
       "0  {'x': -8343658.1592999995, 'spatialReference':...  \n",
       "2  {'x': -8134621.0503, 'spatialReference': {'lat...  \n",
       "3  {'x': -9235334.4718, 'spatialReference': {'lat...  \n",
       "5  {'x': -9142733.7319, 'spatialReference': {'lat...  \n",
       "7  {'x': -9158337.7078, 'spatialReference': {'lat...  "
      ]
     },
     "execution_count": 100,
     "metadata": {},
     "output_type": "execute_result"
    }
   ],
   "source": [
    "sdf_caInterestingLakes"
   ]
  },
  {
   "cell_type": "code",
   "execution_count": 101,
   "metadata": {
    "collapsed": true,
    "slideshow": {
     "slide_type": "skip"
    }
   },
   "outputs": [],
   "source": [
    "from arcgis.features import FeatureLayer \n",
    "url = \"http://services.arcgis.com/P3ePLMYs2RVChkJx/arcgis/rest/services/World_Countries_(Generalized)/FeatureServer/0\"\n",
    "fl = FeatureLayer(url);\n"
   ]
  },
  {
   "cell_type": "markdown",
   "metadata": {
    "nbpresent": {
     "id": "6ba8d77a-c8f5-4042-92eb-83b4667f75f6"
    },
    "slideshow": {
     "slide_type": "subslide"
    }
   },
   "source": [
    "##### Attribute Selection"
   ]
  },
  {
   "cell_type": "markdown",
   "metadata": {
    "nbpresent": {
     "id": "0bb64a28-0a09-4e61-85a6-a2bd3d50d694"
    },
    "slideshow": {
     "slide_type": "fragment"
    }
   },
   "source": [
    "##### Using Arcpy"
   ]
  },
  {
   "cell_type": "markdown",
   "metadata": {
    "nbpresent": {
     "id": "05729abc-81be-4a2f-9cfd-0c70ee58d892"
    },
    "slideshow": {
     "slide_type": "fragment"
    }
   },
   "source": [
    "<pre><code>import arcpy\n",
    "\n",
    "st_lyr = arcpy.MakeFeatureLayer_management(in_features=\"states\", \n",
    "     out_layer=\"states_Layer\", \n",
    "     where_clause=\"AFF_ISO = 'CA' and AFF_ISO = 'US'\")[0]\n",
    "\n",
    "fields = [field.name for field in arcpy.ListFields(st_lyr)]\n",
    "with arcpy.da.SearchCursor(st_lyr, fields) as rows:\n",
    "     for row in rows:\n",
    "         # do stuff with each row\n",
    "</code></pre>         \n"
   ]
  },
  {
   "cell_type": "markdown",
   "metadata": {
    "nbpresent": {
     "id": "56427ad7-f202-43cc-a17b-a31cf078ecb8"
    },
    "slideshow": {
     "slide_type": "subslide"
    }
   },
   "source": [
    "##### Using Spatial DataFrame"
   ]
  },
  {
   "cell_type": "code",
   "execution_count": 102,
   "metadata": {
    "nbpresent": {
     "id": "db4ad1c5-0284-4829-958e-8a50617922be"
    },
    "slideshow": {
     "slide_type": "fragment"
    }
   },
   "outputs": [
    {
     "data": {
      "text/html": [
       "<div>\n",
       "<table border=\"1\" class=\"dataframe\">\n",
       "  <thead>\n",
       "    <tr style=\"text-align: right;\">\n",
       "      <th></th>\n",
       "      <th>AFF_ISO</th>\n",
       "      <th>COUNTRYAFF</th>\n",
       "      <th>Country</th>\n",
       "      <th>FID</th>\n",
       "      <th>ISO</th>\n",
       "      <th>SHAPE</th>\n",
       "    </tr>\n",
       "  </thead>\n",
       "  <tbody>\n",
       "    <tr>\n",
       "      <th>16</th>\n",
       "      <td>US</td>\n",
       "      <td>United States</td>\n",
       "      <td>American Samoa</td>\n",
       "      <td>17</td>\n",
       "      <td>AS</td>\n",
       "      <td>{'rings': [[[-19007124.004548, -1617338.540375...</td>\n",
       "    </tr>\n",
       "    <tr>\n",
       "      <th>24</th>\n",
       "      <td>US</td>\n",
       "      <td>United States</td>\n",
       "      <td>Jarvis Island</td>\n",
       "      <td>25</td>\n",
       "      <td>UM</td>\n",
       "      <td>{'rings': [[[-17813472.3754007, -44311.6306269...</td>\n",
       "    </tr>\n",
       "    <tr>\n",
       "      <th>45</th>\n",
       "      <td>US</td>\n",
       "      <td>United States</td>\n",
       "      <td>United States</td>\n",
       "      <td>46</td>\n",
       "      <td>US</td>\n",
       "      <td>{'rings': [[[-8504253.49161663, 4754669.580065...</td>\n",
       "    </tr>\n",
       "    <tr>\n",
       "      <th>50</th>\n",
       "      <td>US</td>\n",
       "      <td>United States</td>\n",
       "      <td>Baker Island</td>\n",
       "      <td>51</td>\n",
       "      <td>UM</td>\n",
       "      <td>{'rings': [[[-19643596.1998487, 23965.15024489...</td>\n",
       "    </tr>\n",
       "    <tr>\n",
       "      <th>61</th>\n",
       "      <td>CA</td>\n",
       "      <td>Canada</td>\n",
       "      <td>Canada</td>\n",
       "      <td>62</td>\n",
       "      <td>CA</td>\n",
       "      <td>{'rings': [[[-9688723.27200228, 9735729.723165...</td>\n",
       "    </tr>\n",
       "  </tbody>\n",
       "</table>\n",
       "</div>"
      ],
      "text/plain": [
       "   AFF_ISO     COUNTRYAFF         Country  FID ISO  \\\n",
       "16      US  United States  American Samoa   17  AS   \n",
       "24      US  United States   Jarvis Island   25  UM   \n",
       "45      US  United States   United States   46  US   \n",
       "50      US  United States    Baker Island   51  UM   \n",
       "61      CA         Canada          Canada   62  CA   \n",
       "\n",
       "                                                SHAPE  \n",
       "16  {'rings': [[[-19007124.004548, -1617338.540375...  \n",
       "24  {'rings': [[[-17813472.3754007, -44311.6306269...  \n",
       "45  {'rings': [[[-8504253.49161663, 4754669.580065...  \n",
       "50  {'rings': [[[-19643596.1998487, 23965.15024489...  \n",
       "61  {'rings': [[[-9688723.27200228, 9735729.723165...  "
      ]
     },
     "execution_count": 102,
     "metadata": {},
     "output_type": "execute_result"
    }
   ],
   "source": [
    "q = (sdf_states['AFF_ISO'] == 'CA') | (sdf_states['AFF_ISO'] == 'US')\n",
    "sdf_states[q][:5]"
   ]
  },
  {
   "cell_type": "markdown",
   "metadata": {
    "nbpresent": {
     "id": "8f8562fd-5dcf-49fb-9582-801cfa066cb5"
    },
    "slideshow": {
     "slide_type": "subslide"
    }
   },
   "source": [
    "### Exporting Data\n",
    "<hr/>\n",
    "* Data can be saving in various formats (shp, fgdb, egdb featureclasses)\n"
   ]
  },
  {
   "cell_type": "code",
   "execution_count": 103,
   "metadata": {
    "collapsed": true,
    "nbpresent": {
     "id": "75266c31-1146-46f2-b99a-1a1c7d32c4b7"
    },
    "slideshow": {
     "slide_type": "fragment"
    }
   },
   "outputs": [],
   "source": [
    "from arcgis.data.geodataset.io import to_featureclass\n",
    "import uuid"
   ]
  },
  {
   "cell_type": "code",
   "execution_count": 104,
   "metadata": {
    "nbpresent": {
     "id": "23404c3b-d5d9-46d6-a217-6b7ac48a01ea"
    },
    "slideshow": {
     "slide_type": "fragment"
    }
   },
   "outputs": [
    {
     "name": "stdout",
     "output_type": "stream",
     "text": [
      "C:\\Maps\\scratch.gdb\\acf172a0356564195bfe8415a7bbc61bd\n"
     ]
    }
   ],
   "source": [
    "out_states = to_featureclass(\n",
    "    out_location=r\"C:\\Maps\\scratch.gdb\",\n",
    "    out_name=\"a%s\" % uuid.uuid4().hex,\n",
    "    df=sdf_states[q]) # q is Canada and US     \n",
    "print (out_states)"
   ]
  },
  {
   "cell_type": "code",
   "execution_count": 105,
   "metadata": {
    "nbpresent": {
     "id": "e6dafa24-0295-4886-9a40-09302122ec80"
    },
    "slideshow": {
     "slide_type": "skip"
    }
   },
   "outputs": [
    {
     "data": {
      "application/vnd.jupyter.widget-view+json": {
       "model_id": "0fb1e1aa5c5a43338642aae6ba1a3378"
      }
     },
     "metadata": {},
     "output_type": "display_data"
    }
   ],
   "source": [
    "from IPython.display import display  #Ask ANDREW HOW TO ADD\n",
    "map2 = gis.map(None, zoomlevel = 1)\n",
    "map2.add_layer(out_states)\n",
    "map2"
   ]
  },
  {
   "cell_type": "markdown",
   "metadata": {
    "nbpresent": {
     "id": "7ef0d408-1e46-4443-a042-a61e3b9963e8"
    },
    "slideshow": {
     "slide_type": "skip"
    }
   },
   "source": [
    "##### Creating an Index"
   ]
  },
  {
   "cell_type": "code",
   "execution_count": null,
   "metadata": {
    "collapsed": true,
    "nbpresent": {
     "id": "bcf2095a-8378-42cb-b9c0-7d282c108732"
    },
    "slideshow": {
     "slide_type": "skip"
    }
   },
   "outputs": [],
   "source": [
    "index = sdf_states.sindex"
   ]
  },
  {
   "cell_type": "markdown",
   "metadata": {
    "nbpresent": {
     "id": "bdfcbaea-f048-49f3-8aad-4f73010cfd83"
    },
    "slideshow": {
     "slide_type": "skip"
    }
   },
   "source": [
    "##### Using a Spatial Index"
   ]
  },
  {
   "cell_type": "code",
   "execution_count": null,
   "metadata": {
    "nbpresent": {
     "id": "24ddfcc0-e8e8-4938-9996-35e11ca92c5f"
    },
    "slideshow": {
     "slide_type": "skip"
    }
   },
   "outputs": [],
   "source": [
    "qidx = index.intersect([-160, 19,-154,23])\n",
    "sdf_states.loc[qidx]   "
   ]
  },
  {
   "cell_type": "markdown",
   "metadata": {
    "nbpresent": {
     "id": "dbef7979-a626-4079-8dcd-8a7577920492"
    },
    "slideshow": {
     "slide_type": "slide"
    }
   },
   "source": [
    "# The Server API (Beta)\n",
    "\n",
    " - Use ArcGIS Server content\n",
    " - Manage ArcGIS Server instances directly (non-federated/federated servers)\n",
    " - Manage server backends\n"
   ]
  },
  {
   "cell_type": "code",
   "execution_count": null,
   "metadata": {
    "collapsed": true,
    "nbpresent": {
     "id": "37a27a56-aa7c-4476-9a2f-0d67579e7195"
    },
    "slideshow": {
     "slide_type": "skip"
    }
   },
   "outputs": [],
   "source": [
    "\n",
    "username = \"arcgis_python_api\"\n",
    "password = \"***************\""
   ]
  },
  {
   "cell_type": "markdown",
   "metadata": {
    "nbpresent": {
     "id": "025c6cc4-a4e1-436a-aa76-f2ad22ef61b1"
    },
    "slideshow": {
     "slide_type": "subslide"
    }
   },
   "source": [
    "### Login Basics\n",
    " - **Same feel like the GIS object**\n",
    "##### Anonymous Login"
   ]
  },
  {
   "cell_type": "code",
   "execution_count": null,
   "metadata": {
    "nbpresent": {
     "id": "40749799-497d-427b-818c-c6808bf2c021"
    },
    "slideshow": {
     "slide_type": "fragment"
    }
   },
   "outputs": [],
   "source": [
    "from arcgis.server import Server \n",
    "url = \"https://sampleserver6.arcgisonline.com/arcgis/rest\"\n",
    "server = Server(url=url)\n",
    "server"
   ]
  },
  {
   "cell_type": "markdown",
   "metadata": {
    "nbpresent": {
     "id": "2a68c088-b87a-4a47-89f0-e6c58266d7ff"
    },
    "slideshow": {
     "slide_type": "fragment"
    }
   },
   "source": [
    "##### Built-in Authentication"
   ]
  },
  {
   "cell_type": "code",
   "execution_count": null,
   "metadata": {
    "nbpresent": {
     "id": "d0a90ba8-4a0b-4721-be64-86bd9f377aa1"
    },
    "slideshow": {
     "slide_type": "fragment"
    }
   },
   "outputs": [],
   "source": [
    "#Not working.  This is a federeated site!!!!!!!!!!!!!\n",
    "site = \"https://teddym2.esri.com/arcgis\"\n",
    "server_non_fed = Server(url=site,\n",
    "                username=\"tmatinde\",\n",
    "                password=getpass())\n"
   ]
  },
  {
   "cell_type": "markdown",
   "metadata": {
    "nbpresent": {
     "id": "38d3a163-d413-40c6-a195-17133a2104b5"
    },
    "slideshow": {
     "slide_type": "fragment"
    }
   },
   "source": [
    "#### Federated Login"
   ]
  },
  {
   "cell_type": "code",
   "execution_count": null,
   "metadata": {
    "nbpresent": {
     "id": "a6b19f7c-5223-4ab5-b3bc-f26c12f97b8e"
    },
    "slideshow": {
     "slide_type": "fragment"
    }
   },
   "outputs": [],
   "source": [
    "#TM also not working live\n",
    "portal = GIS(url=\"http://teddym2.esri.com/arcgis/sharing/rest\", \n",
    "             username=\"tmatinde\", password=getpass())\n",
    "server = Server(url=\"https://teddym2.esri.com/arcgis\", \n",
    "                portal_connection=portal)"
   ]
  },
  {
   "cell_type": "markdown",
   "metadata": {
    "nbpresent": {
     "id": "6d88557e-bc9e-45d3-af17-1dc4e61a8cda"
    },
    "slideshow": {
     "slide_type": "subslide"
    }
   },
   "source": [
    "### Catalog View\n",
    "\n",
    " - **Catalog view where services can be used**\n",
    " - **Allows for Server exploration and discovery**"
   ]
  },
  {
   "cell_type": "code",
   "execution_count": null,
   "metadata": {
    "collapsed": true,
    "nbpresent": {
     "id": "899068db-b8e5-46bf-86b5-6db5f6ec209f"
    },
    "slideshow": {
     "slide_type": "fragment"
    }
   },
   "outputs": [],
   "source": [
    "catalog = server.catalog\n",
    "for folder in catalog.folders:\n",
    "    print (folder)\n",
    "    for service in catalog.services:\n",
    "        print(service)\n",
    "    break"
   ]
  },
  {
   "cell_type": "markdown",
   "metadata": {
    "nbpresent": {
     "id": "3cd0bf26-9833-4228-8f09-58f171b34c7d"
    },
    "slideshow": {
     "slide_type": "subslide"
    }
   },
   "source": [
    "### Administrating Server\n",
    "\n",
    " - **Manager object allow for easy control of server**\n",
    " - **Must be an administrator**\n",
    " <hr/>"
   ]
  },
  {
   "cell_type": "markdown",
   "metadata": {
    "nbpresent": {
     "id": "4ea1e1c6-fa89-4133-bd3b-fcb84e35f1fe"
    },
    "slideshow": {
     "slide_type": "fragment"
    }
   },
   "source": [
    "**Provides Access to:**\n",
    "\n",
    "  - User management\n",
    "  - System management\n",
    "  - Server logs\n",
    "  - Service management"
   ]
  },
  {
   "cell_type": "markdown",
   "metadata": {
    "nbpresent": {
     "id": "90a87385-0e25-42d2-ba5c-bd15e2f16000"
    },
    "slideshow": {
     "slide_type": "subslide"
    }
   },
   "source": [
    "##### Create a Server User"
   ]
  },
  {
   "cell_type": "code",
   "execution_count": null,
   "metadata": {
    "collapsed": true,
    "nbpresent": {
     "id": "756b8fd0-5e8a-46d6-a9b4-683d61646204"
    },
    "slideshow": {
     "slide_type": "fragment"
    }
   },
   "outputs": [],
   "source": [
    "um = server_non_fed.users\n",
    "user = um.create(username=\"temp_user\", password=\"SuperMario123\", \n",
    "                 firstname=\"Mario\", lastname=\"Brothers\",\n",
    "                 description=\"demo\",\n",
    "                 email=\"mariobros@esri.com\")"
   ]
  },
  {
   "cell_type": "markdown",
   "metadata": {
    "nbpresent": {
     "id": "516bc4b0-6214-440b-b381-0bc0742b94c8"
    },
    "slideshow": {
     "slide_type": "fragment"
    }
   },
   "source": [
    "##### Delete the User"
   ]
  },
  {
   "cell_type": "code",
   "execution_count": null,
   "metadata": {
    "collapsed": true,
    "nbpresent": {
     "id": "d578d08a-48db-491e-9911-c2c99fa798a4"
    },
    "slideshow": {
     "slide_type": "fragment"
    }
   },
   "outputs": [],
   "source": [
    "user.delete()"
   ]
  },
  {
   "cell_type": "markdown",
   "metadata": {
    "nbpresent": {
     "id": "306341c9-fe4d-4af4-b6a9-fe737c117658"
    },
    "slideshow": {
     "slide_type": "subslide"
    }
   },
   "source": [
    "##### Accesing Services\n",
    "\n",
    " - **A shortcut to remember!**"
   ]
  },
  {
   "cell_type": "markdown",
   "metadata": {
    "nbpresent": {
     "id": "d662be28-c370-4a69-aa9a-09e44044dced"
    },
    "slideshow": {
     "slide_type": "fragment"
    }
   },
   "source": [
    "##### Passing Authentication"
   ]
  },
  {
   "cell_type": "code",
   "execution_count": null,
   "metadata": {
    "nbpresent": {
     "id": "9759a46f-23ac-460f-8d8c-b36d0aa6638e"
    },
    "slideshow": {
     "slide_type": "fragment"
    }
   },
   "outputs": [],
   "source": [
    "from arcgis.server import Service\n",
    "service = Service(\"http://teddym2.esri.com/arcgis/rest/services/SampleWorldCities/MapServer\", \n",
    "                  server=server_non_fed)\n",
    "service"
   ]
  },
  {
   "cell_type": "markdown",
   "metadata": {
    "nbpresent": {
     "id": "8e21ebd0-07fd-47ef-8e4b-b9115e2d40a9"
    },
    "slideshow": {
     "slide_type": "fragment"
    }
   },
   "source": [
    "##### Anonymous"
   ]
  },
  {
   "cell_type": "code",
   "execution_count": null,
   "metadata": {
    "collapsed": true,
    "nbpresent": {
     "id": "b4c5b852-d2bd-4e9c-b45d-a196368786c5"
    },
    "slideshow": {
     "slide_type": "fragment"
    }
   },
   "outputs": [],
   "source": [
    "service = Service(\"http://teddym2.esri.com/arcgis/rest/services/SampleWorldCities/MapServer\")\n",
    "service"
   ]
  },
  {
   "cell_type": "markdown",
   "metadata": {
    "nbpresent": {
     "id": "328535c9-9cfb-420e-bb28-87f981fc63e8"
    },
    "slideshow": {
     "slide_type": "skip"
    }
   },
   "source": [
    "### Visualizing Server Reports"
   ]
  },
  {
   "cell_type": "code",
   "execution_count": null,
   "metadata": {
    "collapsed": true,
    "nbpresent": {
     "id": "1bfb7d52-1c5e-4ceb-b025-fb6fed9dba9b"
    },
    "slideshow": {
     "slide_type": "skip"
    }
   },
   "outputs": [],
   "source": [
    "from datetime import datetime\n",
    "import numpy as np\n",
    "import matplotlib.pyplot as plt\n",
    "import pandas as pd\n",
    "import matplotlib.ticker as ticker\n",
    "\n",
    "usage = server.usage\n",
    "for report in usage.reports:\n",
    "    if report.reportname == \"Total requests for the last 7 days\":\n",
    "        data = report.query()\n",
    "        break\n",
    "data_y = data['report']['report-data'][0][0]['data']\n",
    "data_x = [pd.to_datetime(datetime.fromtimestamp(d//1000)) \\\n",
    "          for d in data['report']['time-slices']]\n",
    "df = pd.DataFrame(list(zip(data_x, data_y)), columns=[\"date\", \"count\"])\n",
    "q = df['count'].isnull() # change NaN values to 0\n",
    "df.loc[q, 'count'] = 0\n",
    "df.index = df['date']\n",
    "df['count'] = df['count'] \n",
    "\n",
    "ax = df.plot(kind='bar', x=df['date'])\n",
    "ticklabels = ['']*len(df.index)\n",
    "ticklabels[::4] = [item.strftime('%b %d') for item in df.index[::4]]\n",
    "ax.xaxis.set_major_formatter(ticker.FixedFormatter(ticklabels))\n",
    "plt.gcf().autofmt_xdate()\n"
   ]
  },
  {
   "cell_type": "code",
   "execution_count": null,
   "metadata": {
    "collapsed": true,
    "nbpresent": {
     "id": "7357d1f4-79b7-4653-ad8e-915097cd50d9"
    },
    "slideshow": {
     "slide_type": "subslide"
    }
   },
   "outputs": [],
   "source": [
    "plt.show()"
   ]
  },
  {
   "cell_type": "markdown",
   "metadata": {
    "nbpresent": {
     "id": "e00f64c2-5123-4dae-b0dc-4e0b161ccd2f"
    },
    "slideshow": {
     "slide_type": "slide"
    }
   },
   "source": [
    "#### An easy way to move items from one portal to another using the API?  "
   ]
  },
  {
   "cell_type": "markdown",
   "metadata": {
    "slideshow": {
     "slide_type": "fragment"
    }
   },
   "source": [
    "- no  ..\n"
   ]
  },
  {
   "cell_type": "markdown",
   "metadata": {
    "slideshow": {
     "slide_type": "fragment"
    }
   },
   "source": [
    "- You would have to build this\n",
    "    - For services, export to FGDB and copy all Item’s information to JSON on disk.\n",
    "    - For everything else, if it’s JSON based save the JSON out to disk as a text file\n",
    "    - For binary objects, (word docs, etc..), save to disk, and save item’s properties to a JSON file. \n",
    "    - web maps, you’ll most likely have to re-wire the item ids \n",
    "    - To mimic sharing, recreate all groups are setup"
   ]
  },
  {
   "cell_type": "markdown",
   "metadata": {
    "nbpresent": {
     "id": "316f66da-685a-4df4-a752-eddf4eb1134d"
    },
    "slideshow": {
     "slide_type": "slide"
    }
   },
   "source": [
    "<center><h1>Questions?</h1></center>\n",
    "<center></center>"
   ]
  },
  {
   "cell_type": "code",
   "execution_count": null,
   "metadata": {
    "collapsed": true
   },
   "outputs": [],
   "source": []
  }
 ],
 "metadata": {
  "celltoolbar": "Slideshow",
  "kernelspec": {
   "display_name": "Python 3",
   "language": "python",
   "name": "python3"
  },
  "language_info": {
   "codemirror_mode": {
    "name": "ipython",
    "version": 3
   },
   "file_extension": ".py",
   "mimetype": "text/x-python",
   "name": "python",
   "nbconvert_exporter": "python",
   "pygments_lexer": "ipython3",
   "version": "3.5.2"
  },
  "nbpresent": {
   "slides": {},
   "themes": {
    "default": "ec797ece-eab8-4d00-b1a7-82fa3370e4c1",
    "theme": {}
   }
  },
  "widgets": {
   "application/vnd.jupyter.widget-state+json": {
    "state": {},
    "version_major": 1,
    "version_minor": 0
   }
  }
 },
 "nbformat": 4,
 "nbformat_minor": 2
}
